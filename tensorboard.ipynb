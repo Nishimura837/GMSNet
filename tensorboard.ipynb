{
 "cells": [
  {
   "cell_type": "code",
   "execution_count": 3,
   "metadata": {},
   "outputs": [],
   "source": [
    "from torch.utils.tensorboard import SummaryWriter\n",
    "import numpy as np\n",
    "\n",
    "# log出力用のディレクトリを指定\n",
    "log_path = \"/mnt/log1\"\n",
    "# writerオブジェクト生成。パスを引数に指定しない場合は./runs/配下に出力される\n",
    "writer = SummaryWriter(log_path)\n",
    "\n",
    "x = np.array(range(1, 10))\n",
    "y = x * x\n",
    "\n",
    "# xとyの値を記録していく\n",
    "for i in range(len(x)):\n",
    "    writer.add_scalar(\"x\", x[i], i)\n",
    "    writer.add_scalar(\"y\", y[i], i)\n",
    "\n",
    "# writerを閉じる\n",
    "writer.close()\n"
   ]
  }
 ],
 "metadata": {
  "kernelspec": {
   "display_name": "Python 3",
   "language": "python",
   "name": "python3"
  },
  "language_info": {
   "codemirror_mode": {
    "name": "ipython",
    "version": 3
   },
   "file_extension": ".py",
   "mimetype": "text/x-python",
   "name": "python",
   "nbconvert_exporter": "python",
   "pygments_lexer": "ipython3",
   "version": "3.10.12"
  }
 },
 "nbformat": 4,
 "nbformat_minor": 2
}
