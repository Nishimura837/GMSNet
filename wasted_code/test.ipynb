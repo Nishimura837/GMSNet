{
 "cells": [
  {
   "cell_type": "code",
   "execution_count": 11,
   "metadata": {},
   "outputs": [
    {
     "name": "stdout",
     "output_type": "stream",
     "text": [
      "Step 1:\n",
      "==========\n",
      "[tensor([5, 1]), tensor([6, 2]), tensor([7, 3]), tensor([8, 4])]\n",
      "Step 2:\n",
      "==========\n",
      "[tensor([9]), tensor([10]), tensor([11]), tensor([12])]\n",
      "[[1, 2, 3, 4], [5, 6, 7, 8], [9, 10, 11, 12]]\n"
     ]
    }
   ],
   "source": [
    "mesh_data = {\n",
    "    'polygon0': [1, 2, 3, 4],  # 例としてポリゴンの頂点のインデックスをリストで表現\n",
    "    'polygon1': [5, 6, 7, 8],\n",
    "    'polygon2': [9, 10, 11, 12]\n",
    "}\n",
    "\n",
    "# mesh_dataからpolygon0からpolygon2までのリストを取得します。\n",
    "polygon_lists = [mesh_data[f'polygon{i}'] for i in range(3)]\n",
    "\n",
    "from torch_geometric.loader import DataLoader\n",
    "\n",
    "train_loader = DataLoader(polygon_lists, batch_size=2, shuffle=True)\n",
    "test_loader = DataLoader(polygon_lists, batch_size=2)\n",
    "\n",
    "for step, data in enumerate(train_loader):\n",
    "    print(f\"Step {step + 1}:\")\n",
    "    print(\"==========\")\n",
    "    # print(f\"Number of graphs in the current batch: {data.num_graphs}\")\n",
    "    print(data)\n",
    "\n",
    "print(polygon_lists)\n"
   ]
  },
  {
   "cell_type": "code",
   "execution_count": 19,
   "metadata": {},
   "outputs": [
    {
     "name": "stdout",
     "output_type": "stream",
     "text": [
      "Polygon with name 'polygon_0' not found.\n",
      "Polygon with name 'polygon_1' not found.\n",
      "Polygon with name 'polygon_2' not found.\n",
      "Polygon with name 'polygon_3' not found.\n"
     ]
    }
   ],
   "source": [
    "import random\n",
    "\n",
    "class Polygon:\n",
    "    def __init__(self, polygon):\n",
    "        self.nodeID = None\n",
    "\n",
    "\n",
    "# Polygonインスタンスを作成し、リストに格納する\n",
    "polygon_list = []\n",
    "polygon_list.append(Polygon(\"polygon_0\"))\n",
    "polygon_list.append(Polygon(\"polygon_1\"))\n",
    "polygon_list.append(Polygon(\"polygon_2\"))\n",
    "\n",
    "\n",
    "# 名前からポリゴンにアクセスする関数\n",
    "def access_polygon_by_name(name):\n",
    "    for polygon in polygon_list:\n",
    "        name.nodeID = random\n",
    "        if polygon.nodeID == name:\n",
    "            return polygon\n",
    "    return None  # 該当する名前が見つからない場合はNoneを返す\n",
    "\n",
    "# テスト\n",
    "for i in range(4):\n",
    "    name_to_access = f\"polygon_{i}\"\n",
    "    found_polygon = access_polygon_by_name(name_to_access)\n",
    "    if found_polygon:\n",
    "        found_polygon.nodeID = random\n",
    "        print(f\"Found polygon with name '{name_to_access}': {found_polygon.nodeID}\")\n",
    "        \n",
    "    else:\n",
    "        print(f\"Polygon with name '{name_to_access}' not found.\")\n"
   ]
  },
  {
   "cell_type": "code",
   "execution_count": 22,
   "metadata": {},
   "outputs": [
    {
     "name": "stdout",
     "output_type": "stream",
     "text": [
      "Polygon name: polygon_705\n",
      "Node IDs: [0, 2]\n",
      "\n",
      "Polygon name: polygon_3125\n",
      "Node IDs: [2, 3, 4, 5, 7, 10]\n",
      "\n",
      "Polygon name: polygon_906\n",
      "Node IDs: [0, 1]\n",
      "\n",
      "Polygon name: polygon_3182\n",
      "Node IDs: [3, 5, 8]\n",
      "\n",
      "Polygon name: polygon_2745\n",
      "Node IDs: [1, 4, 6, 7]\n",
      "\n",
      "Polygon name: polygon_1836\n",
      "Node IDs: [0, 2, 3]\n",
      "\n"
     ]
    }
   ],
   "source": [
    "class Polygon:\n",
    "    def __init__(self, name, nodeID):\n",
    "        self.name = name\n",
    "        self.nodeID = nodeID\n",
    "\n",
    "# 元のリストの各要素に対応するPolygonクラスのインスタンスを作成\n",
    "polygon_list = ['polygon_705', 'polygon_3125', 'polygon_906', 'polygon_3182', 'polygon_2745', 'polygon_1836']\n",
    "nodeID_list = [[0, 2], [2, 3, 4, 5, 7, 10], [0, 1], [3, 5, 8], [1, 4, 6, 7], [0, 2, 3]]\n",
    "\n",
    "# Polygonインスタンスのリストを作成\n",
    "polygon_instances = []\n",
    "for name, nodeID in zip(polygon_list, nodeID_list):\n",
    "    polygon_instances.append(Polygon(name, nodeID))\n",
    "\n",
    "# 各ポリゴンの情報を表示\n",
    "for polygon in polygon_instances:\n",
    "    print(f\"Polygon name: {polygon.name}\")\n",
    "    print(f\"Node IDs: {polygon.nodeID}\")\n",
    "    print()\n"
   ]
  },
  {
   "cell_type": "code",
   "execution_count": 24,
   "metadata": {},
   "outputs": [],
   "source": [
    "polygon_nodeID_dict = {\n",
    "    'polygon_705': [0, 2],\n",
    "    'polygon_3125': [2, 3, 4, 5, 7, 10],\n",
    "    'polygon_906': [0, 1],\n",
    "    'polygon_3182': [3, 5, 8],\n",
    "    'polygon_2745': [1, 4, 6, 7],\n",
    "    'polygon_1836': [0, 2, 3],}\n",
    "\n",
    "data_loader = DataLoader(polygon_nodeID_dict, batch_size=3, shuffle=True)\n",
    "\n"
   ]
  },
  {
   "cell_type": "code",
   "execution_count": 29,
   "metadata": {},
   "outputs": [
    {
     "ename": "KeyError",
     "evalue": "5",
     "output_type": "error",
     "traceback": [
      "\u001b[0;31m---------------------------------------------------------------------------\u001b[0m",
      "\u001b[0;31mKeyError\u001b[0m                                  Traceback (most recent call last)",
      "Cell \u001b[0;32mIn[29], line 1\u001b[0m\n\u001b[0;32m----> 1\u001b[0m \u001b[38;5;28;01mfor\u001b[39;00m data \u001b[38;5;129;01min\u001b[39;00m \u001b[38;5;28menumerate\u001b[39m(data_loader):\n\u001b[1;32m      2\u001b[0m     \u001b[38;5;28mprint\u001b[39m(\u001b[38;5;124m\"\u001b[39m\u001b[38;5;124m==========\u001b[39m\u001b[38;5;124m\"\u001b[39m)\n\u001b[1;32m      3\u001b[0m     \u001b[38;5;28mprint\u001b[39m(data)\n",
      "File \u001b[0;32m~/.local/lib/python3.8/site-packages/torch/utils/data/dataloader.py:631\u001b[0m, in \u001b[0;36m_BaseDataLoaderIter.__next__\u001b[0;34m(self)\u001b[0m\n\u001b[1;32m    628\u001b[0m \u001b[38;5;28;01mif\u001b[39;00m \u001b[38;5;28mself\u001b[39m\u001b[38;5;241m.\u001b[39m_sampler_iter \u001b[38;5;129;01mis\u001b[39;00m \u001b[38;5;28;01mNone\u001b[39;00m:\n\u001b[1;32m    629\u001b[0m     \u001b[38;5;66;03m# TODO(https://github.com/pytorch/pytorch/issues/76750)\u001b[39;00m\n\u001b[1;32m    630\u001b[0m     \u001b[38;5;28mself\u001b[39m\u001b[38;5;241m.\u001b[39m_reset()  \u001b[38;5;66;03m# type: ignore[call-arg]\u001b[39;00m\n\u001b[0;32m--> 631\u001b[0m data \u001b[38;5;241m=\u001b[39m \u001b[38;5;28;43mself\u001b[39;49m\u001b[38;5;241;43m.\u001b[39;49m\u001b[43m_next_data\u001b[49m\u001b[43m(\u001b[49m\u001b[43m)\u001b[49m\n\u001b[1;32m    632\u001b[0m \u001b[38;5;28mself\u001b[39m\u001b[38;5;241m.\u001b[39m_num_yielded \u001b[38;5;241m+\u001b[39m\u001b[38;5;241m=\u001b[39m \u001b[38;5;241m1\u001b[39m\n\u001b[1;32m    633\u001b[0m \u001b[38;5;28;01mif\u001b[39;00m \u001b[38;5;28mself\u001b[39m\u001b[38;5;241m.\u001b[39m_dataset_kind \u001b[38;5;241m==\u001b[39m _DatasetKind\u001b[38;5;241m.\u001b[39mIterable \u001b[38;5;129;01mand\u001b[39;00m \\\n\u001b[1;32m    634\u001b[0m         \u001b[38;5;28mself\u001b[39m\u001b[38;5;241m.\u001b[39m_IterableDataset_len_called \u001b[38;5;129;01mis\u001b[39;00m \u001b[38;5;129;01mnot\u001b[39;00m \u001b[38;5;28;01mNone\u001b[39;00m \u001b[38;5;129;01mand\u001b[39;00m \\\n\u001b[1;32m    635\u001b[0m         \u001b[38;5;28mself\u001b[39m\u001b[38;5;241m.\u001b[39m_num_yielded \u001b[38;5;241m>\u001b[39m \u001b[38;5;28mself\u001b[39m\u001b[38;5;241m.\u001b[39m_IterableDataset_len_called:\n",
      "File \u001b[0;32m~/.local/lib/python3.8/site-packages/torch/utils/data/dataloader.py:675\u001b[0m, in \u001b[0;36m_SingleProcessDataLoaderIter._next_data\u001b[0;34m(self)\u001b[0m\n\u001b[1;32m    673\u001b[0m \u001b[38;5;28;01mdef\u001b[39;00m \u001b[38;5;21m_next_data\u001b[39m(\u001b[38;5;28mself\u001b[39m):\n\u001b[1;32m    674\u001b[0m     index \u001b[38;5;241m=\u001b[39m \u001b[38;5;28mself\u001b[39m\u001b[38;5;241m.\u001b[39m_next_index()  \u001b[38;5;66;03m# may raise StopIteration\u001b[39;00m\n\u001b[0;32m--> 675\u001b[0m     data \u001b[38;5;241m=\u001b[39m \u001b[38;5;28;43mself\u001b[39;49m\u001b[38;5;241;43m.\u001b[39;49m\u001b[43m_dataset_fetcher\u001b[49m\u001b[38;5;241;43m.\u001b[39;49m\u001b[43mfetch\u001b[49m\u001b[43m(\u001b[49m\u001b[43mindex\u001b[49m\u001b[43m)\u001b[49m  \u001b[38;5;66;03m# may raise StopIteration\u001b[39;00m\n\u001b[1;32m    676\u001b[0m     \u001b[38;5;28;01mif\u001b[39;00m \u001b[38;5;28mself\u001b[39m\u001b[38;5;241m.\u001b[39m_pin_memory:\n\u001b[1;32m    677\u001b[0m         data \u001b[38;5;241m=\u001b[39m _utils\u001b[38;5;241m.\u001b[39mpin_memory\u001b[38;5;241m.\u001b[39mpin_memory(data, \u001b[38;5;28mself\u001b[39m\u001b[38;5;241m.\u001b[39m_pin_memory_device)\n",
      "File \u001b[0;32m~/.local/lib/python3.8/site-packages/torch/utils/data/_utils/fetch.py:51\u001b[0m, in \u001b[0;36m_MapDatasetFetcher.fetch\u001b[0;34m(self, possibly_batched_index)\u001b[0m\n\u001b[1;32m     49\u001b[0m         data \u001b[38;5;241m=\u001b[39m \u001b[38;5;28mself\u001b[39m\u001b[38;5;241m.\u001b[39mdataset\u001b[38;5;241m.\u001b[39m__getitems__(possibly_batched_index)\n\u001b[1;32m     50\u001b[0m     \u001b[38;5;28;01melse\u001b[39;00m:\n\u001b[0;32m---> 51\u001b[0m         data \u001b[38;5;241m=\u001b[39m [\u001b[38;5;28mself\u001b[39m\u001b[38;5;241m.\u001b[39mdataset[idx] \u001b[38;5;28;01mfor\u001b[39;00m idx \u001b[38;5;129;01min\u001b[39;00m possibly_batched_index]\n\u001b[1;32m     52\u001b[0m \u001b[38;5;28;01melse\u001b[39;00m:\n\u001b[1;32m     53\u001b[0m     data \u001b[38;5;241m=\u001b[39m \u001b[38;5;28mself\u001b[39m\u001b[38;5;241m.\u001b[39mdataset[possibly_batched_index]\n",
      "File \u001b[0;32m~/.local/lib/python3.8/site-packages/torch/utils/data/_utils/fetch.py:51\u001b[0m, in \u001b[0;36m<listcomp>\u001b[0;34m(.0)\u001b[0m\n\u001b[1;32m     49\u001b[0m         data \u001b[38;5;241m=\u001b[39m \u001b[38;5;28mself\u001b[39m\u001b[38;5;241m.\u001b[39mdataset\u001b[38;5;241m.\u001b[39m__getitems__(possibly_batched_index)\n\u001b[1;32m     50\u001b[0m     \u001b[38;5;28;01melse\u001b[39;00m:\n\u001b[0;32m---> 51\u001b[0m         data \u001b[38;5;241m=\u001b[39m [\u001b[38;5;28;43mself\u001b[39;49m\u001b[38;5;241;43m.\u001b[39;49m\u001b[43mdataset\u001b[49m\u001b[43m[\u001b[49m\u001b[43midx\u001b[49m\u001b[43m]\u001b[49m \u001b[38;5;28;01mfor\u001b[39;00m idx \u001b[38;5;129;01min\u001b[39;00m possibly_batched_index]\n\u001b[1;32m     52\u001b[0m \u001b[38;5;28;01melse\u001b[39;00m:\n\u001b[1;32m     53\u001b[0m     data \u001b[38;5;241m=\u001b[39m \u001b[38;5;28mself\u001b[39m\u001b[38;5;241m.\u001b[39mdataset[possibly_batched_index]\n",
      "\u001b[0;31mKeyError\u001b[0m: 5"
     ]
    }
   ],
   "source": [
    "for data in enumerate(data_loader):\n",
    "    print(\"==========\")\n",
    "    print(data)\n"
   ]
  },
  {
   "cell_type": "markdown",
   "metadata": {},
   "source": [
    "for文を使ってdictionaryに追加する方法"
   ]
  },
  {
   "cell_type": "code",
   "execution_count": 38,
   "metadata": {},
   "outputs": [
    {
     "name": "stdout",
     "output_type": "stream",
     "text": [
      "{'keyword1': tensor([1, 2]), 'keyword2': tensor([3, 4]), 'keyword3': tensor([5, 6]), 'keyword4': tensor([7, 8])}\n",
      "tensor([1, 2])\n",
      "tensor([3, 4])\n",
      "tensor([5, 6])\n",
      "tensor([7, 8])\n"
     ]
    }
   ],
   "source": [
    "import torch\n",
    "\n",
    "keyword_to_variables = {\n",
    "    \"keyword1\": torch.tensor([1, 2]),\n",
    "    \"keyword2\": torch.tensor([3, 4]),\n",
    "}\n",
    "\n",
    "# 新しいキーと値のペアを追加するリスト\n",
    "new_keywords_and_variables = [\n",
    "    (\"keyword3\", torch.tensor([5, 6])),\n",
    "    (\"keyword4\", torch.tensor([7, 8])),\n",
    "    # 追加するキーと値のペアを追加\n",
    "]\n",
    "\n",
    "# forループを使って新しいキーと値のペアをディクショナリに追加\n",
    "for keyword, variables in new_keywords_and_variables:\n",
    "    keyword_to_variables[keyword] = variables\n",
    "\n",
    "print(keyword_to_variables)\n",
    "\n",
    "for i in range(len(keyword_to_variables)):\n",
    "    print(keyword_to_variables[f\"keyword{i+1}\"])\n"
   ]
  },
  {
   "cell_type": "code",
   "execution_count": 6,
   "metadata": {},
   "outputs": [
    {
     "name": "stdout",
     "output_type": "stream",
     "text": [
      "tensor([[0, 0, 0, 0, 0, 0, 1, 1, 2, 2, 3, 3, 4, 4, 5, 5, 6, 6],\n",
      "        [1, 2, 3, 4, 5, 6, 0, 2, 0, 3, 0, 5, 0, 1, 0, 6, 0, 4]])\n"
     ]
    }
   ],
   "source": [
    "import torch\n",
    "\n",
    "# polygon.facesを定義\n",
    "faces = torch.tensor([[1, 2, 0],\n",
    "                      [2, 3, 0],\n",
    "                      [0, 3, 5],\n",
    "                      [0, 5, 6],\n",
    "                      [0, 6, 4],\n",
    "                      [0, 4, 1]])\n",
    "\n",
    "# 各行の三角形からエッジを抽出してedge_indexを構築\n",
    "edges = torch.cat([faces[:, [0, 1]],\n",
    "                   faces[:, [1, 2]],\n",
    "                   faces[:, [2, 0]]], dim=0)\n",
    "\n",
    "# エッジのインデックスをソートして重複を削除\n",
    "edge_index = torch.tensor(sorted(edges.numpy().tolist())).unique(dim=0)\n",
    "edge_index = torch.transpose(edge_index, 0, 1)\n",
    "print(edge_index)\n"
   ]
  },
  {
   "cell_type": "code",
   "execution_count": 6,
   "metadata": {},
   "outputs": [
    {
     "ename": "RuntimeError",
     "evalue": "Sizes of tensors must match except in dimension 1. Expected size 2 but got size 5 for tensor number 1 in the list.",
     "output_type": "error",
     "traceback": [
      "\u001b[0;31m---------------------------------------------------------------------------\u001b[0m",
      "\u001b[0;31mRuntimeError\u001b[0m                              Traceback (most recent call last)",
      "Cell \u001b[0;32mIn[6], line 14\u001b[0m\n\u001b[1;32m     11\u001b[0m additional_tensor \u001b[38;5;241m=\u001b[39m torch\u001b[38;5;241m.\u001b[39marange(start, end, step)\u001b[38;5;241m.\u001b[39mview(\u001b[38;5;241m-\u001b[39m\u001b[38;5;241m1\u001b[39m, \u001b[38;5;241m1\u001b[39m)\n\u001b[1;32m     13\u001b[0m \u001b[38;5;66;03m# 元のテンソルに追加するテンソルを連結する\u001b[39;00m\n\u001b[0;32m---> 14\u001b[0m result_tensor \u001b[38;5;241m=\u001b[39m \u001b[43mtorch\u001b[49m\u001b[38;5;241;43m.\u001b[39;49m\u001b[43mcat\u001b[49m\u001b[43m(\u001b[49m\u001b[43m[\u001b[49m\u001b[43moriginal_tensor\u001b[49m\u001b[43m,\u001b[49m\u001b[43m \u001b[49m\u001b[43madditional_tensor\u001b[49m\u001b[43m]\u001b[49m\u001b[43m,\u001b[49m\u001b[43m \u001b[49m\u001b[43mdim\u001b[49m\u001b[38;5;241;43m=\u001b[39;49m\u001b[38;5;241;43m1\u001b[39;49m\u001b[43m)\u001b[49m\n\u001b[1;32m     16\u001b[0m \u001b[38;5;28mprint\u001b[39m(\u001b[38;5;124m\"\u001b[39m\u001b[38;5;124mOriginal Tensor:\u001b[39m\u001b[38;5;124m\"\u001b[39m)\n\u001b[1;32m     17\u001b[0m \u001b[38;5;28mprint\u001b[39m(original_tensor)\n",
      "\u001b[0;31mRuntimeError\u001b[0m: Sizes of tensors must match except in dimension 1. Expected size 2 but got size 5 for tensor number 1 in the list."
     ]
    }
   ],
   "source": [
    "import torch\n",
    "\n",
    "# 既存のテンソルを作成\n",
    "existing_tensor = torch.tensor([[1, 2],\n",
    "                                [3, 4]])\n",
    "\n",
    "# 追加するテンソルの長さ（列数）を指定\n",
    "num_columns_to_add = 3\n",
    "\n",
    "# 追加するテンソルを作成\n",
    "tensor_to_add = torch.ones(existing_tensor.size(0), num_columns_to_add, dtype=torch.int)\n",
    "\n",
    "# 既存のテンソルと追加するテンソルを結合して新しいテンソルを作成\n",
    "result = torch.cat((existing_tensor, tensor_to_add), dim=1)\n",
    "\n",
    "print(result)\n",
    "\n"
   ]
  },
  {
   "cell_type": "code",
   "execution_count": null,
   "metadata": {},
   "outputs": [],
   "source": []
  }
 ],
 "metadata": {
  "kernelspec": {
   "display_name": "Python 3",
   "language": "python",
   "name": "python3"
  },
  "language_info": {
   "codemirror_mode": {
    "name": "ipython",
    "version": 3
   },
   "file_extension": ".py",
   "mimetype": "text/x-python",
   "name": "python",
   "nbconvert_exporter": "python",
   "pygments_lexer": "ipython3",
   "version": "3.10.12"
  }
 },
 "nbformat": 4,
 "nbformat_minor": 2
}
