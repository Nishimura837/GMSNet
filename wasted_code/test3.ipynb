{
 "cells": [
  {
   "cell_type": "code",
   "execution_count": 3,
   "metadata": {},
   "outputs": [],
   "source": [
    "import numpy as np"
   ]
  },
  {
   "cell_type": "code",
   "execution_count": 5,
   "metadata": {},
   "outputs": [],
   "source": [
    "def write_vtk_mesh(vertices, faces, filename):\n",
    "    num_vertices = len(vertices)\n",
    "    num_faces = len(faces)\n",
    "\n",
    "    with open(filename, 'w') as f:\n",
    "        f.write(\"# vtk DataFile Version 2.0\\n\")\n",
    "        f.write(\"FOR TEST\\n\")\n",
    "        f.write(\"ASCII\\n\")\n",
    "        f.write(\"DATASET POLYDATA\\n\")\n",
    "        \n",
    "        f.write(\"POINTS {} float\\n\".format(num_vertices))\n",
    "        for vertex in vertices:\n",
    "            f.write(\"{:.15f} {:.15f} {:.15f}\\n\".format(*vertex))\n",
    "\n",
    "        f.write(\"\\nPOLYGONS {} {}\\n\".format(num_faces, num_faces * 4))\n",
    "        for face in faces:\n",
    "            f.write(\"3 \")\n",
    "            f.write(\" \".join(str(idx) for idx in face))\n",
    "            f.write(\"\\n\")\n",
    "\n",
    "# 適当な座標データと面情報を生成\n",
    "num_vertices = 100\n",
    "num_faces = 50\n",
    "vertices = np.random.rand(num_vertices, 3)\n",
    "faces = np.random.randint(0, num_vertices, size=(num_faces, 3))\n",
    "\n",
    "write_vtk_mesh(vertices, faces, \"/mnt/output.vtk\")\n"
   ]
  },
  {
   "cell_type": "markdown",
   "metadata": {},
   "source": [
    "メモリプロファイリング"
   ]
  },
  {
   "cell_type": "code",
   "execution_count": 3,
   "metadata": {},
   "outputs": [
    {
     "name": "stdout",
     "output_type": "stream",
     "text": [
      "ERROR: Could not find file /tmp/ipykernel_166784/1125239598.py\n"
     ]
    }
   ],
   "source": [
    "# my_script.py\n",
    "from memory_profiler import profile\n",
    "\n",
    "@profile\n",
    "def my_function():\n",
    "    a = [1] * (10 ** 6)  # リストaを大きくすることでメモリ消費量を増やす\n",
    "    b = [2] * (10 ** 7)  # リストbを大きくすることでメモリ消費量を増やす\n",
    "    del b  # メモリの解放\n",
    "\n",
    "    # 一時的な変数を使用してメモリ消費量を増やす\n",
    "    temp = [3] * (10 ** 8)\n",
    "\n",
    "my_function()\n"
   ]
  },
  {
   "cell_type": "code",
   "execution_count": 4,
   "metadata": {},
   "outputs": [
    {
     "name": "stdout",
     "output_type": "stream",
     "text": [
      "ERROR: Could not find file /tmp/ipykernel_166784/1202442083.py\n"
     ]
    }
   ],
   "source": [
    "from memory_profiler import profile\n",
    "\n",
    "@profile\n",
    "def my_function():\n",
    "    a = [1] * (10 ** 6)  # リストaを大きくすることでメモリ消費量を増やす\n",
    "    b = [2] * (10 ** 7)  # リストbを大きくすることでメモリ消費量を増やす\n",
    "    del b  # メモリの解放\n",
    "\n",
    "    # 一時的な変数を使用してメモリ消費量を増やす\n",
    "    temp = [3] * (10 ** 8)\n",
    "\n",
    "my_function()\n"
   ]
  }
 ],
 "metadata": {
  "kernelspec": {
   "display_name": "Python 3",
   "language": "python",
   "name": "python3"
  },
  "language_info": {
   "codemirror_mode": {
    "name": "ipython",
    "version": 3
   },
   "file_extension": ".py",
   "mimetype": "text/x-python",
   "name": "python",
   "nbconvert_exporter": "python",
   "pygments_lexer": "ipython3",
   "version": "3.10.12"
  }
 },
 "nbformat": 4,
 "nbformat_minor": 2
}
