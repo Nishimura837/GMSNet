{
 "cells": [
  {
   "cell_type": "markdown",
   "metadata": {},
   "source": [
    "## GMSNetのモデルを作成する  train,eval,test のデータに分ける\n",
    "### 損失関数の求め方、必要な値が正しく得られているかなど検証してみる\n",
    "2024/5/17 時点での完成版\n",
    "\n",
    "コードをすべて問題なく実行できるようにはなった。\n",
    "最適化されたメッシュを取り出してくることもでき、しっかり更新できている。\n",
    "しかし、損失の値が全く減少せず、むしろ増加していてほぼもともとのメッシュのままの出力が最適化メッシュとして出てきてしまう。\n",
    "ゆえに、最適化できているとは到底言えない。\n",
    "\n",
    "\n",
    "\n",
    "\n"
   ]
  },
  {
   "cell_type": "markdown",
   "metadata": {},
   "source": [
    "・各epoch後のメッシュの表示\n"
   ]
  },
  {
   "cell_type": "markdown",
   "metadata": {},
   "source": [
    "・学習率を0.1倍から0.95倍にしてみる"
   ]
  },
  {
   "cell_type": "markdown",
   "metadata": {},
   "source": [
    "・シフト切り捨ては推論時飲み使用する"
   ]
  },
  {
   "cell_type": "markdown",
   "metadata": {},
   "source": [
    "・バッチサイズを変えてみる"
   ]
  },
  {
   "cell_type": "markdown",
   "metadata": {},
   "source": [
    "・モデルの出力を0.5倍するなどして移動量を小さくする"
   ]
  },
  {
   "cell_type": "markdown",
   "metadata": {},
   "source": [
    "・学習時はMetricLossで、最適メッシュを選定するときは違う関数なのはなんで"
   ]
  },
  {
   "cell_type": "markdown",
   "metadata": {},
   "source": [
    "# シフト切り捨てをやめてみる\n",
    "# トレーニング完了後のトレーニングメッシュを表示してみる\n",
    "# 各epochの終了時にメッシュを可視化してみる"
   ]
  },
  {
   "cell_type": "code",
   "execution_count": 43,
   "metadata": {},
   "outputs": [],
   "source": [
    "import copy\n",
    "import numpy as np\n",
    "import torch\n",
    "from torch.utils.data import Dataset\n",
    "from torch.utils.tensorboard import SummaryWriter\n",
    "from torch_geometric.nn import GCNConv\n",
    "from torch_geometric.nn.norm import GraphNorm\n",
    "import torch_geometric.transforms as T\n",
    "from torch.nn import Linear, InstanceNorm2d, InstanceNorm1d, Conv1d, ReLU, Tanh\n",
    "from torch.optim.lr_scheduler import ReduceLROnPlateau\n",
    "import random\n",
    "import matplotlib.pyplot as plt\n",
    "from torch_geometric.transforms import FaceToEdge\n",
    "from torch_geometric.data import Data\n",
    "from torch_geometric.loader import DataLoader\n",
    "from itertools import combinations\n",
    "import vtk\n",
    "import glob\n",
    "from torch_scatter import scatter_mean\n",
    "from tqdm import tqdm\n",
    "# 計算を軽くするためのライブラリ\n",
    "from torch.cuda import empty_cache\n",
    "import gc               # メモリリークを防ぐ\n",
    "\n",
    "from torch import nn\n",
    "import os\n",
    "import sys"
   ]
  },
  {
   "cell_type": "code",
   "execution_count": 44,
   "metadata": {},
   "outputs": [
    {
     "data": {
      "text/plain": [
       "True"
      ]
     },
     "execution_count": 44,
     "metadata": {},
     "output_type": "execute_result"
    }
   ],
   "source": [
    "torch.cuda.is_available()"
   ]
  },
  {
   "cell_type": "code",
   "execution_count": 45,
   "metadata": {},
   "outputs": [],
   "source": [
    "num_train_epoch = 50\n",
    "num_test_epoch = 100\n",
    "num_trial = 2"
   ]
  },
  {
   "cell_type": "markdown",
   "metadata": {},
   "source": [
    "# Dataの準備"
   ]
  },
  {
   "cell_type": "code",
   "execution_count": 46,
   "metadata": {},
   "outputs": [],
   "source": [
    "class Dataset(Dataset):\n",
    "    def __init__(self, num_files):\n",
    "        None\n",
    "\n",
    "class Mesh(Dataset):\n",
    "    def __init__(self):\n",
    "        self.coordinates = None\n",
    "        self.faces = None\n",
    "\n",
    "class Polygon(Dataset):\n",
    "    def __init__(self, num_node, num_face):\n",
    "        self.parent_meshID = None\n",
    "        self.coordinates = torch.zeros(num_node, 2)\n",
    "        self.faces = torch.zeros(num_face, 3)\n",
    "        self.edges = None\n",
    "        self.d = None\n",
    "        self.Cx = None\n",
    "        self.Cy = None\n",
    "        self.x_min = None\n",
    "        self.y_min = None\n",
    "\n",
    "class PolygonID(Dataset):\n",
    "    def __init__(self, nodeID):\n",
    "        self.nodeID = nodeID\n",
    "        # self.parent_meshID = None\n",
    "\n",
    "class Polygon_data(Dataset):\n",
    "    def __init__(self, polygonID, meshID, nodeID):\n",
    "        self.polygonID = polygonID\n",
    "        self.meshID = meshID\n",
    "        self.nodeID = nodeID\n",
    "\n",
    "class Minibatch(Dataset):\n",
    "    def __init__(self):\n",
    "        self.x = None\n",
    "        self.edge_index = None\n",
    "        self.batch = None"
   ]
  },
  {
   "cell_type": "code",
   "execution_count": 47,
   "metadata": {},
   "outputs": [],
   "source": [
    "def create_mesh_polygonID_data(vtk_file_path, polygonID_list, poly_count, polygon_dict, mesh_index):\n",
    "    reader = vtk.vtkDataSetReader()\n",
    "    reader.SetFileName(vtk_file_path)\n",
    "    reader.Update()\n",
    "\n",
    "    data = reader.GetOutput()\n",
    "    \n",
    "    mesh = Mesh()\n",
    "    # 座標情報を取得\n",
    "    points = data.GetPoints()\n",
    "    num_points = points.GetNumberOfPoints()\n",
    "    coordinates = torch.zeros(num_points, 3)\n",
    "    for i in range(num_points):\n",
    "        coordinates[i] = torch.tensor(points.GetPoint(i))\n",
    "\n",
    "    mesh.coordinates = coordinates[:, :2]                        # mesh.coordinates を定義\n",
    "\n",
    "    # 面情報を取得\n",
    "    polys = data.GetPolys()\n",
    "    num_polys = polys.GetNumberOfCells()\n",
    "    mesh.faces = torch.zeros(num_polys, 3, dtype=int)           # mesh.faces を定義\n",
    "\n",
    "    # 各三角形の情報を取得\n",
    "    polys.InitTraversal()\n",
    "    for i in range(num_polys):\n",
    "        cell = vtk.vtkIdList()\n",
    "        if polys.GetNextCell(cell) == 0:\n",
    "            break\n",
    "        mesh.faces[i] = torch.tensor([cell.GetId(0), cell.GetId(1), cell.GetId(2)])\n",
    "        \n",
    "# ------------ mesh のデータを取得完了 -------------------------\n",
    "\n",
    "\n",
    "    # 各セルの各辺の隣接セル数を調べる\n",
    "    edge_neighbors = {}\n",
    "    num_cells = data.GetNumberOfCells()\n",
    "    for cell_index in range(num_cells):\n",
    "        cell = data.GetCell(cell_index)\n",
    "        num_edges = cell.GetNumberOfEdges()\n",
    "\n",
    "        for edge_index in range(num_edges):\n",
    "            edge = cell.GetEdge(edge_index)\n",
    "            edge_points = edge.GetPointIds()\n",
    "\n",
    "            # 辺を構成する点のインデックスを取得\n",
    "            point1_id = edge_points.GetId(0)\n",
    "            point2_id = edge_points.GetId(1)\n",
    "\n",
    "            # 辺を構成する点のインデックスを照準にソート\n",
    "            edge_key = (min(point1_id, point2_id), max(point1_id, point2_id))\n",
    "\n",
    "            # 辺の隣接セル数をカウント\n",
    "            if edge_key in edge_neighbors:\n",
    "                edge_neighbors[edge_key] += 1\n",
    "            else:\n",
    "                edge_neighbors[edge_key] = 1 \n",
    "\n",
    "    boundary_edges = []\n",
    "    # 境界上の辺を特定\n",
    "    for edge_key, num_neighbors in edge_neighbors.items():\n",
    "        if num_neighbors == 1:\n",
    "            boundary_edges.append(edge_key)\n",
    "\n",
    "    # 境界上の辺を構成する頂点の番号を取得\n",
    "    boundary_points = set()     # 集合を表すデータ型、順番を持たず、重複した要素は取り除かれる\n",
    "# ---------------- 自由点かどうかの判定完了 ------------------------\n",
    "    \n",
    "\n",
    "    for edge_key in boundary_edges:\n",
    "        boundary_points.add(edge_key[0])\n",
    "        boundary_points.add(edge_key[1])\n",
    "    \n",
    "    \n",
    "    for pointId in range(num_points):       # pointId:自由点の頂点番号\n",
    "        if pointId in boundary_points:\n",
    "            continue\n",
    "        else:\n",
    "            poly_count += 1\n",
    "            # print(\"pointId:\", pointId)\n",
    "        mask = (mesh.faces == pointId)\n",
    "        if mask.any():\n",
    "            count = torch.sum(mask).item()\n",
    "        num_node = count + 1\n",
    "        num_face = count\n",
    "        polygon_number = poly_count - 1 \n",
    "\n",
    "\n",
    "\n",
    "        \n",
    "        polygon_i = f\"polygon_{polygon_number}\"\n",
    "        # print(polygon_i)\n",
    "        polygon_i = Polygon(num_node, num_face)\n",
    "        \n",
    "        element_to_check = pointId\n",
    "        polygon_i.face = mesh.faces[(mesh.faces == element_to_check).any(dim=1)]\n",
    "        # print(polygon_i.face)\n",
    "\n",
    "        polygon_i.nodeId = set()\n",
    "        for i in range(len(polygon_i.face)):\n",
    "            polygon_i.nodeId.add(polygon_i.face[i, 0].item())\n",
    "            polygon_i.nodeId.add(polygon_i.face[i, 1].item())\n",
    "            polygon_i.nodeId.add(polygon_i.face[i, 2].item())\n",
    "        sorted_nodeId = sorted(polygon_i.nodeId)\n",
    "        polygon_i.nodeID = torch.tensor(list(sorted_nodeId))\n",
    "        \n",
    "        point_id_index = (polygon_i.nodeID == pointId).nonzero().item()\n",
    "\n",
    "        value_to_move = polygon_i.nodeID[point_id_index]\n",
    "        polygon_i.nodeID = torch.cat((value_to_move.unsqueeze(0), polygon_i.nodeID[polygon_i.nodeID != pointId]))\n",
    "        # print(polygon_i.nodeID)\n",
    "        setattr(polygon_i, \"parent_meshID\", mesh)\n",
    "        polygonID_list.append(f\"polygon_{polygon_number}\")\n",
    "\n",
    "        keyword = f\"polygon_{polygon_number}\"\n",
    "        valiables = (f\"mesh_{mesh_index}\", polygon_i.nodeID)\n",
    "        polygon_dict[keyword] = valiables\n",
    "\n",
    "    # --------- polygon.nodeID の取得完了 -------------\n",
    "    return mesh, polygonID_list, poly_count, polygon_dict"
   ]
  },
  {
   "cell_type": "markdown",
   "metadata": {},
   "source": [
    "# Dataset の作成"
   ]
  },
  {
   "cell_type": "code",
   "execution_count": 48,
   "metadata": {},
   "outputs": [],
   "source": [
    "def create_mesh_polygon_dataset(vtk_files):\n",
    "    num_vtk_files = len(vtk_files)\n",
    "    polygonID_list = []\n",
    "    mesh_data_list = []\n",
    "    poly_count = 0\n",
    "    polygon_dict = {}\n",
    "    # ファイルに順にアクセスする\n",
    "    for i in range(num_vtk_files):\n",
    "        # print(\"File Name:\", vtk_files[i])\n",
    "        mesh, polygonID_list, poly_count, polygon_dict = create_mesh_polygonID_data(vtk_files[i], polygonID_list, poly_count, polygon_dict, i)\n",
    "        mesh_data_list.append(mesh)\n",
    "    return mesh_data_list, polygonID_list, polygon_dict\n"
   ]
  },
  {
   "cell_type": "code",
   "execution_count": 49,
   "metadata": {},
   "outputs": [],
   "source": [
    "# 以下、i はpolygon番号で座標と面情報を取得することができる\n",
    "face_to_edge = T.FaceToEdge(remove_faces=False)\n",
    "def data_getter(polygonID, num_mesh_data_list, mesh_data_list, polygon_data_list):\n",
    "    \n",
    "    polygon_meshID = int(polygon_data_list[polygonID].meshID.split(\"_\")[-1])\n",
    "    mesh = mesh_data_list[polygon_meshID]\n",
    "    \n",
    "    num_node = len(polygon_data_list[polygonID].nodeID)\n",
    "    num_face = num_node - 1 \n",
    "    polygon_i = Polygon(num_node, num_face)\n",
    "\n",
    "    # print(polygon_data_list[polygonID].nodeID)      # polygon に属する頂点の番号\n",
    "\n",
    "    polygon_i.coordinates = mesh.coordinates[polygon_data_list[polygonID].nodeID]     # polygonの座標\n",
    "    # print(polygon_i.coordinates)\n",
    "\n",
    "    # print(polygon_i.faces)\n",
    "\n",
    "    # polygon_i.faces を取得するコード\n",
    "    \n",
    "    element_to_check = polygon_data_list[polygonID].nodeID[0]\n",
    "    polygon_i.face = mesh.faces[(mesh.faces == element_to_check).any(dim=1)]\n",
    "\n",
    "    indices = torch.nonzero(torch.isin(polygon_i.face, polygon_data_list[polygonID].nodeID))\n",
    "    for idx in range(indices.size(0)):\n",
    "        row_idx, col_idx = indices[idx]\n",
    "        value_to_replace = polygon_i.face[row_idx, col_idx]\n",
    "        polygon_i.face[row_idx, col_idx] = (polygon_data_list[polygonID].nodeID == value_to_replace).nonzero().item()\n",
    "    polygon_i.faces = polygon_i.face.long()\n",
    "\n",
    "    # 各行の三角形からエッジを抽出してedge_indexを構築\n",
    "    edges = torch.cat([ polygon_i.faces[:, [0, 1]],\n",
    "                        polygon_i.faces[:, [1, 2]],\n",
    "                        polygon_i.faces[:, [2, 0]]], dim=0)\n",
    "\n",
    "    # エッジのインデックスをソートして重複を削除\n",
    "    edge_index = torch.sort(edges, dim=1).values\n",
    "    edge_index = torch.tensor(sorted(edge_index.numpy().tolist())).unique(dim=0)\n",
    "    polygon_i.edge_index = torch.transpose(edge_index, 0, 1)\n",
    "    return polygon_i\n",
    "\n"
   ]
  },
  {
   "cell_type": "markdown",
   "metadata": {},
   "source": [
    "# メッシュをプロットする関数"
   ]
  },
  {
   "cell_type": "code",
   "execution_count": 50,
   "metadata": {},
   "outputs": [],
   "source": [
    "def plot_mesh(mesh, title):\n",
    "\n",
    "    vertices = mesh.coordinates\n",
    "    faces = mesh.faces\n",
    "    fig = plt.figure()\n",
    "    ax = fig.add_subplot(111, aspect=\"equal\")\n",
    "\n",
    "    # 描画するメッシュの頂点をプロット\n",
    "    # ax.plot(vertices[:,0], vertices[:,1], 'bo')  # 頂点を青色の点でプロット\n",
    "    # ax.plot(vertices[:,0], vertices[:,1], 'k-')  # 辺を黒色の線でプロット\n",
    "\n",
    "    # 各三角形をプロット\n",
    "    for face in faces:\n",
    "        v0, v1, v2 = vertices[face]\n",
    "        v0_np = v0.detach().numpy()\n",
    "        v1_np = v1.detach().numpy()\n",
    "        v2_np = v2.detach().numpy()\n",
    "        ax.plot([v0_np[0], v1_np[0], v2_np[0], v0_np[0]], [v0_np[1], v1_np[1], v2_np[1], v0_np[1]], 'b-')  # 三角形を赤色の線でプロット\n",
    "\n",
    "    ax.set_title(title)\n",
    "    ax.set_xlabel('X')\n",
    "    ax.set_ylabel('Y')\n",
    "    ax.axhline(0, color=\"black\", linewidth=0.001)\n",
    "    ax.axvline(0, color=\"black\", linewidth=0.001)\n",
    "\n",
    "    # plt.xlim(-300, 150)\n",
    "    # plt.ylim(-200, 1400)\n",
    "    # plt.savefig(f\"/mnt/{title}.png\", format=\"png\")\n",
    "    plt.show()\n",
    "    plt.close()\n"
   ]
  },
  {
   "cell_type": "code",
   "execution_count": 51,
   "metadata": {},
   "outputs": [],
   "source": [
    "def save_mesh(mesh, title):\n",
    "\n",
    "    vertices = mesh.coordinates\n",
    "    faces = mesh.faces\n",
    "    fig = plt.figure()\n",
    "    ax = fig.add_subplot(111, aspect=\"equal\")\n",
    "\n",
    "    # 描画するメッシュの頂点をプロット\n",
    "    # ax.plot(vertices[:,0], vertices[:,1], 'bo')  # 頂点を青色の点でプロット\n",
    "    # ax.plot(vertices[:,0], vertices[:,1], 'k-')  # 辺を黒色の線でプロット\n",
    "\n",
    "    # 各三角形をプロット\n",
    "    for face in faces:\n",
    "        v0, v1, v2 = vertices[face]\n",
    "        v0_np = v0.detach().numpy()\n",
    "        v1_np = v1.detach().numpy()\n",
    "        v2_np = v2.detach().numpy()\n",
    "        ax.plot([v0_np[0], v1_np[0], v2_np[0], v0_np[0]], [v0_np[1], v1_np[1], v2_np[1], v0_np[1]], 'b-')  # 三角形を赤色の線でプロット\n",
    "\n",
    "    ax.set_title(title)\n",
    "    ax.set_xlabel('X')\n",
    "    ax.set_ylabel('Y')\n",
    "    ax.axhline(0, color=\"black\", linewidth=0.001)\n",
    "    ax.axvline(0, color=\"black\", linewidth=0.001)\n",
    "\n",
    "    # plt.xlim(-300, 150)\n",
    "    # plt.ylim(-200, 1400)\n",
    "    plt.savefig(f\"/mnt/Saved_mesh2/{title}.png\", format=\"png\")\n",
    "    # plt.show()\n",
    "    plt.close()"
   ]
  },
  {
   "cell_type": "markdown",
   "metadata": {},
   "source": [
    "# meshデータからvtkファイルを出力する関数"
   ]
  },
  {
   "cell_type": "code",
   "execution_count": 52,
   "metadata": {},
   "outputs": [],
   "source": [
    "def vtk_output(mesh, title):\n",
    "    vertices = mesh.coordinates\n",
    "    faces = mesh.faces\n",
    "    num_vertices = len(vertices)\n",
    "    num_faces = len(faces)\n",
    "\n",
    "\n",
    "    # vertices を３次元に戻す\n",
    "    z_column = torch.zeros(vertices.shape[0], 1)\n",
    "    vertices = torch.cat((vertices, z_column), dim=1)\n",
    "\n",
    "    with open(f\"/mnt/optimized_data/{title}.vtk\", \"w\") as f:\n",
    "        f.write(\"# vtk DataFile Version 2.0\\n\")\n",
    "        f.write(\"FOR TEST\\n\")\n",
    "        f.write(\"ASCII\\n\")\n",
    "        f.write(\"DATASET POLYDATA\\n\")\n",
    "\n",
    "        f.write(\"POINTS {} float\\n\".format(num_vertices))\n",
    "        for vertex in vertices:\n",
    "            f.write(\"{:.15f} {:.15f} {:.15f}\\n\".format(*vertex))\n",
    "\n",
    "        f.write(\"\\nPOLYGONS {} {}\\n\".format(num_faces, num_faces * 4))\n",
    "        for face in faces:\n",
    "            f.write(\"3 \")\n",
    "            f.write(\" \".join(str(idx.item()) for idx in face))\n",
    "            f.write(\"\\n\")\n",
    "       \n",
    "\n"
   ]
  },
  {
   "cell_type": "markdown",
   "metadata": {},
   "source": [
    "# Normalization"
   ]
  },
  {
   "cell_type": "code",
   "execution_count": 53,
   "metadata": {},
   "outputs": [],
   "source": [
    "def normalization(polygon):\n",
    "    vertices = polygon.coordinates\n",
    "    normalized_vertices = vertices.clone()\n",
    "    centered_vertices = vertices.clone()\n",
    "    # print(vertices)\n",
    "\n",
    "    max_x = torch.max(vertices[:,0])\n",
    "    min_x = torch.min(vertices[:,0])\n",
    "    max_y = torch.max(vertices[:,1])\n",
    "    min_y = torch.min(vertices[:,1])\n",
    "\n",
    "    polygon.d = torch.max(max_x - min_x, max_y - min_y)\n",
    "    polygon.x_min = min_x\n",
    "    polygon.y_min = min_y\n",
    "\n",
    "    normalized_vertices = (vertices - torch.tensor([polygon.x_min, polygon.y_min])) / polygon.d\n",
    "\n",
    "    \n",
    "    polygon.Cx = normalized_vertices[0,0].item()\n",
    "    polygon.Cy = normalized_vertices[0,1].item()   \n",
    "\n",
    "    centered_vertices = normalized_vertices - torch.tensor([polygon.Cx, polygon.Cy])\n",
    "    polygon.coordinates = centered_vertices\n",
    "    \n",
    "    # print(\"Normalized polygon:\", vertices)\n",
    "\n",
    "    return polygon\n",
    "\n",
    "\n",
    "    \n"
   ]
  },
  {
   "cell_type": "markdown",
   "metadata": {},
   "source": [
    "# denormalization"
   ]
  },
  {
   "cell_type": "code",
   "execution_count": 54,
   "metadata": {},
   "outputs": [],
   "source": [
    "def denormalization(polygon):\n",
    "    vertices = polygon.coordinates\n",
    "    shifted_vertices = vertices.clone()\n",
    "    denormalized_vertices = vertices.clone()\n",
    "    \n",
    "    shifted_vertices = vertices + torch.tensor([polygon.Cx, polygon.Cy])\n",
    "        \n",
    "\n",
    "    denormalized_vertices = polygon.d * shifted_vertices + torch.tensor([polygon.x_min, polygon.y_min])\n",
    "    polygon.coordinates = denormalized_vertices\n",
    "    return polygon\n"
   ]
  },
  {
   "cell_type": "markdown",
   "metadata": {},
   "source": [
    "# MetricLoss"
   ]
  },
  {
   "cell_type": "code",
   "execution_count": 55,
   "metadata": {},
   "outputs": [],
   "source": [
    "import sys\n",
    "\n",
    "import logging\n",
    "\n",
    "logging.basicConfig(\n",
    "    filename='metric_loss.log',\n",
    "    level=logging.DEBUG, \n",
    "    format='%(message)s'\n",
    ")\n",
    "\n",
    "logger = logging.getLogger(__name__)\n",
    "\n",
    "class MetricLoss:\n",
    "    def select_vertices(self, vertices, face):\n",
    "        v0 = vertices[face[0]].clone()\n",
    "        v1 = vertices[face[1]].clone()\n",
    "        v2 = vertices[face[2]].clone()\n",
    "        return v0, v1, v2 \n",
    "\n",
    "    def edge_length(self, v0, v1, v2):\n",
    "        l1 = torch.sqrt((v0[0] - v1[0])**2 + (v0[1] - v1[1])**2)\n",
    "        l2 = torch.sqrt((v1[0] - v2[0])**2 + (v1[1] - v2[1])**2)\n",
    "        l3 = torch.sqrt((v2[0] - v0[0])**2 + (v2[1] - v0[1])**2)\n",
    "\n",
    "        return l1, l2, l3\n",
    "\n",
    "    def face_area(self, polygon, l1, l2, l3):\n",
    "        \n",
    "        s = 0.5*(l1 + l2 + l3)\n",
    "        #print(round(l1.item(),5), round(l2.item(),5), round(l3.item(),5), round(s.item(),5), round((s*(s-l1)*(s-l2)*(s-l3)).item(),5))\n",
    "        temp = s*(s-l1)*(s-l2)*(s-l3)\n",
    "        #temp.register_hook(print_grad)\n",
    "        logger.info(\"    s, in_sqrt: {}, {}\".format(s.item(), temp.item()))\n",
    "        \n",
    "        try:\n",
    "            \n",
    "            face_area = torch.sqrt(temp)\n",
    "            \n",
    "        except Exception as e:\n",
    "            \n",
    "            SimplePolygonGenerator.polygon_visualizer(polygon)\n",
    "            \n",
    "            print(\"An error occurred\")\n",
    "            print(\"Value of temp:\", temp)\n",
    "            print(l1.item(), l2.item(), l3.item())\n",
    "            \n",
    "            raise\n",
    "        \n",
    "        #face_area = torch.sqrt(temp)\n",
    "        #face_area.register_hook(print_grad)\n",
    "        return face_area\n",
    "\n",
    "    def compute_loss(self, polygon, vertices, face, dx):\n",
    "        v0, v1, v2 = self.select_vertices(vertices, face)\n",
    "        if dx is not None:\n",
    "            if face[0]==0:\n",
    "                v0 = v0 + dx\n",
    "            elif face[1]==0:\n",
    "                v1 += v1 + dx\n",
    "            elif face[2]==0:\n",
    "                v2 += v2 + dx\n",
    "        #print(v0, v1, v2)\n",
    "        logger.info(\"    v0: ({}, {})\".format(v0[0].item(), v0[1].item()))\n",
    "        logger.info(\"    v1: ({}, {})\".format(v1[0].item(), v1[1].item()))\n",
    "        logger.info(\"    v2: ({}, {})\".format(v2[0].item(), v2[1].item()))\n",
    "        l1, l2, l3 = self.edge_length(v0, v1, v2)\n",
    "        logger.info(\"    l1, l2, l3:  {}, {}, {}\".format(l1.item(), l2.item(), l3.item()))\n",
    "        s = self.face_area(polygon, l1, l2, l3)\n",
    "        #print(s.item(), l1.item(), l2.item(), l3.item())\n",
    "\n",
    "        #q = (l1**2 + l2**2 + l3**2)/(4.0*torch.sqrt(torch.tensor(3.))*s+1.0)\n",
    "        \n",
    "        #loss = 1 - 1/q\n",
    "        #print(q.item(), loss.item())\n",
    "        \n",
    "        #q = q.clone().detach().requires_grad_(True)\n",
    "        loss = 1-(4.0*torch.sqrt(torch.tensor(3.))*s)/(l1**2 + l2**2 + l3**2)\n",
    "        logger.info(\"    area, loss: {}, {}\".format(s.item(), loss.item()))\n",
    "        logger.info(\"\")\n",
    "        #print(loss.item())\n",
    "        #print(\"\")\n",
    "        \n",
    "        #loss.register_hook(print_grad)\n",
    "        \n",
    "        return loss\n",
    "\n",
    "    def __call__(self, polygon, dx=None):\n",
    "        vertices = polygon.coordinates\n",
    "        faces = polygon.faces\n",
    "        loss = 0 \n",
    "        #print(vertices)\n",
    "        #print(dx)\n",
    "        for face in faces:\n",
    "            loss = loss + self.compute_loss(polygon, vertices, face, dx)\n",
    "        \n",
    "        metric_loss = loss/(len(polygon.coordinates[:,0])-1) #.clone().detach().requires_grad_(True))\n",
    "        return metric_loss\n",
    "    \n",
    "    \n",
    "def print_grad(grad):\n",
    "    print(grad)"
   ]
  },
  {
   "cell_type": "markdown",
   "metadata": {},
   "source": [
    "# meshデータからq_hatを求める関数"
   ]
  },
  {
   "cell_type": "code",
   "execution_count": 56,
   "metadata": {},
   "outputs": [],
   "source": [
    "def calculate_q_hat(mesh):\n",
    "    vertices = mesh.coordinates\n",
    "    faces = mesh.faces\n",
    "    r_list = []\n",
    "    alpha_list = []\n",
    "    beta_list = []\n",
    "\n",
    "    for face in faces:\n",
    "        # a(最小角)と b(最大角)を求める\n",
    "\n",
    "        angles = []\n",
    "        v0, v1, v2 = m_loss.select_vertices(vertices, face)\n",
    "        l1, l2, l3 = m_loss.edge_length(v0, v1, v2)\n",
    "\n",
    "        # 余弦定理から各角度の余弦値を計算\n",
    "        cos_alpha = (l2**2 + l3**2 - l1**2) / (2*l2*l3)\n",
    "        cos_beta = (l1**2 + l3**2 - l2**2) / (2*l1*l3)\n",
    "        cos_gamma = (l1**2 + l2**2 - l3**2) / (2*l1*l2)\n",
    "        # 余弦値から角度を計算して個度法に変換\n",
    "        alpha = torch.acos(cos_alpha) * 180 / np.pi\n",
    "        beta = torch.acos(cos_beta) * 180 / np.pi\n",
    "        gamma = torch.acos(cos_gamma) * 180 / np.pi\n",
    "\n",
    "        angles.append(alpha)\n",
    "        angles.append(beta)\n",
    "        angles.append(gamma)\n",
    "\n",
    "        min_angle = min(angles)\n",
    "        max_angle = max(angles)\n",
    "\n",
    "        alpha_list.append(min_angle)\n",
    "        beta_list.append(max_angle)\n",
    "\n",
    "\n",
    "\n",
    "        # 1/q = r を求める\n",
    "\n",
    "        r = 1 - m_loss.compute_loss(vertices, face) \n",
    "        r_list.append(r)\n",
    "\n",
    "    a_mean = sum(alpha_list) / len(alpha_list)\n",
    "    a_min = min(alpha_list)\n",
    "    b_mean = sum(beta_list) / len(beta_list)\n",
    "    b_max = max(beta_list)\n",
    "    r_mean = sum(r_list) / len(r_list)\n",
    "    r_min = min(r_list)\n",
    "\n",
    "    q_hat = (((a_mean + a_min + 120 - b_max - b_mean)/60) + r_mean + r_min) / 6\n",
    "\n",
    "    return q_hat\n",
    "\n",
    "    \n",
    "\n",
    "\n",
    "    \n",
    "    "
   ]
  },
  {
   "cell_type": "markdown",
   "metadata": {},
   "source": [
    "スターポリゴンの中から外側に自由点が移動したときに自由点の移動量を半分にしてもう一度外に行っていないか検証する\n",
    "自由点が外に行かないことを確認したあとのスターポリゴンを返す"
   ]
  },
  {
   "cell_type": "code",
   "execution_count": 57,
   "metadata": {},
   "outputs": [],
   "source": [
    "def check(polygon, polygonID):\n",
    "    # print(\"polygonID:\", polygonID)\n",
    "    vertices = polygon.coordinates\n",
    "    \n",
    "    edge_index = polygon.edge_index\n",
    "    \n",
    "    return_value = True\n",
    "    while return_value == True:   \n",
    "\n",
    "        for i in range(1, len(vertices[:,0])):\n",
    "            point1 = torch.tensor([0.0, 0.0])\n",
    "            point2 = vertices[0]\n",
    "            point3 = vertices[i]\n",
    "            \n",
    "            pos_i = torch.where(edge_index[0] == i)\n",
    "            pos_i = pos_i[0]\n",
    "            # print(\"edge_index[0]\", edge_index[0])\n",
    "            \n",
    "            for j in range(len(pos_i)):\n",
    "                if edge_index[1, pos_i[j]] == 0:\n",
    "                    continue\n",
    "                else:\n",
    "                    val_pos_i = edge_index[1, pos_i[j]]\n",
    "                    break\n",
    "\n",
    "            point4 = vertices[val_pos_i]\n",
    "\n",
    "\n",
    "            a1 = 0\n",
    "            b1 = 0\n",
    "            a2 = 0\n",
    "            b2 = 0\n",
    "            check1 = 0\n",
    "            check2 = 0\n",
    "            check3 = 0\n",
    "            check4 = 0\n",
    "            x1 = point1[0]\n",
    "            y1 = point1[1]\n",
    "            x2 = point2[0]\n",
    "            y2 = point2[1]\n",
    "            x3 = point3[0]\n",
    "            y3 = point3[1]\n",
    "            x4 = point4[0]\n",
    "            y4 = point4[1]\n",
    "            a1 = (y1 - y2)/(x1-x2)\n",
    "            b1 = y1 - (a1*x1)\n",
    "            a2 = (y3 - y4)/(x3-x4)\n",
    "            b2 = y3 - (a2*x3)\n",
    "            check1 = (a1*x3) - y3 + b1 \n",
    "            check2 = (a1*x4) - y4 + b1    # point1,2を通る直線に対してpoint3,4を結ぶ線分が交差しているか\n",
    "            check3 = (a2*x1) - y1 + b2\n",
    "            check4 = (a2*x2) - y2 + b2    # point3,4を通る直線に対してpoint1,2を結ぶ線分が交差しているか\n",
    "            # print(\"1:\",check1,\"2:\",check2,\"3:\",check3,\"4:\",check4)\n",
    "            del a1, a2, b1, b2, x1, x2, x3, x4, y1, y2, y3, y4 \n",
    "\n",
    "            if (check1*check2) <= 0 and (check3*check4) <= 0 :\n",
    "                return_value = True\n",
    "                # print(\"Out_of_StarPolygon\")\n",
    "                vertices[0] = 0.5*vertices[0]\n",
    "                polygon.coordinates[0] = vertices[0]\n",
    "                break\n",
    "            else:\n",
    "                return_value = False\n",
    "                continue       \n",
    "            \n",
    "        \n",
    "    # plot_mesh(polygon, \"polygon_checked\")\n",
    "               \n",
    "    return polygon"
   ]
  },
  {
   "cell_type": "markdown",
   "metadata": {},
   "source": [
    "# Model 隠れ層のノード数は何にするか未定"
   ]
  },
  {
   "cell_type": "code",
   "execution_count": 58,
   "metadata": {},
   "outputs": [],
   "source": [
    "class GMSNet(torch.nn.Module):\n",
    "    \n",
    "    def __init__(self, input_dim, feature_dim, hidden_channnels):\n",
    "        \n",
    "        super(GMSNet, self).__init__()\n",
    "        torch.manual_seed(42)\n",
    "        \n",
    "        self.shared_mlp = Conv1d(input_dim, feature_dim, kernel_size=1)\n",
    "        self.GNorm = GraphNorm(feature_dim, feature_dim)\n",
    "        self.conv = GCNConv(feature_dim, feature_dim)\n",
    "        self.fc1 = Linear(feature_dim, hidden_channnels)\n",
    "        #self.ISNorm = InstanceNorm1d(hidden_channnels, affine=True)\n",
    "        self.fc2 = Linear(hidden_channnels, input_dim)\n",
    "        \n",
    "        self.relu = ReLU()\n",
    "        self.tanh = Tanh()\n",
    "\n",
    "        # Weight initialization\n",
    "        self.apply(self._init_weights)\n",
    "\n",
    "    def _init_weights(self, m):\n",
    "        if isinstance(m, (nn.Linear, nn.Conv1d)):\n",
    "            nn.init.kaiming_normal_(m.weight, nonlinearity='relu')\n",
    "            if m.bias is not None:\n",
    "                nn.init.zeros_(m.bias)\n",
    "\n",
    "    def forward(self, x, edge_index):       \n",
    "        \n",
    "        # feature\n",
    "        x = torch.permute(x, (0, 2, 1))\n",
    "        x = self.shared_mlp(x)\n",
    "        feature = self.relu(x)\n",
    "        feature = torch.permute(feature, (0, 2, 1))\n",
    "        \n",
    "        # GNN\n",
    "        x = self.GNorm(feature)\n",
    "        x = self.relu(x)\n",
    "        gnn_feature = self.conv(x, edge_index) + feature\n",
    "        \n",
    "        # MLP\n",
    "        target_feature = gnn_feature.mean(dim=1)\n",
    "        mlp_midlayer = self.fc1(target_feature)\n",
    "        x = self.relu(mlp_midlayer)\n",
    "        x = self.fc2(x)\n",
    "        x = self.tanh(x)\n",
    "        \n",
    "        x = 0.1*x\n",
    "        \n",
    "        return x"
   ]
  },
  {
   "cell_type": "markdown",
   "metadata": {},
   "source": [
    "# Main"
   ]
  },
  {
   "cell_type": "code",
   "execution_count": 59,
   "metadata": {},
   "outputs": [
    {
     "name": "stdout",
     "output_type": "stream",
     "text": [
      "num_train_mesh: 1\n"
     ]
    }
   ],
   "source": [
    "# フォルダ内のすべてのvtkファイルにアクセスする\n",
    "train_vtk_files = glob.glob(\"/mnt/Train_Data/*.vtk\")\n",
    "eval_vtk_files = glob.glob(\"/mnt/Eval_Data/*.vtk\")\n",
    "test_vtk_files = glob.glob(\"/mnt/Test_Data/*vtk\")\n",
    "\n",
    "num_train_mesh = len(train_vtk_files)\n",
    "num_test_mesh = len(test_vtk_files)\n",
    "print(\"num_train_mesh:\", num_train_mesh)\n",
    "train_mesh_data_list, train_polygonID_list, train_polygon_dict = create_mesh_polygon_dataset(train_vtk_files)\n",
    "eval_mesh_data_list, eval_polygonID_list, eval_polygon_dict = create_mesh_polygon_dataset(eval_vtk_files)\n",
    "test_mesh_data_list, test_polygonID_list, test_polygon_dict = create_mesh_polygon_dataset(test_vtk_files)\n",
    "\n",
    "\n",
    "    \n",
    "# ポリゴンデータを格納するリストを作成\n",
    "train_polygon_data_list = []\n",
    "eval_polygon_data_list = []\n",
    "test_polygon_data_list = []\n",
    "\n",
    "for i in range(len(train_polygonID_list)):\n",
    "    polygonID = f\"polygon_{i}\"\n",
    "    meshID = train_polygon_dict[f\"polygon_{i}\"][0]\n",
    "    nodeID = train_polygon_dict[f\"polygon_{i}\"][1]\n",
    "    polygon_data = Polygon_data(polygonID, meshID, nodeID)\n",
    "    train_polygon_data_list.append(polygon_data)\n",
    "\n",
    "for i in range(len(eval_polygonID_list)):\n",
    "    polygonID = f\"polygon_{i}\"\n",
    "    meshID = eval_polygon_dict[f\"polygon_{i}\"][0]\n",
    "    nodeID = eval_polygon_dict[f\"polygon_{i}\"][1]\n",
    "    polygon_data = Polygon_data(polygonID, meshID, nodeID)\n",
    "    eval_polygon_data_list.append(polygon_data)\n",
    "\n",
    "for i in range(len(test_polygonID_list)):\n",
    "    polygonID = f\"polygon_{i}\"\n",
    "    meshID = test_polygon_dict[f\"polygon_{i}\"][0]\n",
    "    nodeID = test_polygon_dict[f\"polygon_{i}\"][1]\n",
    "    polygon_data = Polygon_data(polygonID, meshID, nodeID)\n",
    "    test_polygon_data_list.append(polygon_data)"
   ]
  },
  {
   "cell_type": "code",
   "execution_count": 60,
   "metadata": {},
   "outputs": [
    {
     "data": {
      "text/plain": [
       "__main__.Polygon_data"
      ]
     },
     "execution_count": 60,
     "metadata": {},
     "output_type": "execute_result"
    }
   ],
   "source": [
    "type(train_polygon_data_list[0])"
   ]
  },
  {
   "cell_type": "code",
   "execution_count": 61,
   "metadata": {},
   "outputs": [],
   "source": [
    "train_data_loader = DataLoader(train_polygonID_list, batch_size=64*num_train_mesh, shuffle=True)\n",
    "# eval_data_loader = DataLoader(eval_polygonID_list, batch_size=32, shuffle=True)\n",
    "test_data_loader = DataLoader(test_polygonID_list, batch_size=64*num_test_mesh, shuffle=True)\n",
    "# for step, data in enumerate(data_loader):\n",
    "#     print(f\"Step {step + 1}:\")\n",
    "#     print(\"==========\")\n",
    "#     print(data)\n",
    "#     print(len(data))\n",
    "#     for i in range(len(data)):\n",
    "#         polygonID = int(data[i].split(\"_\")[-1])\n",
    "#         print(\"polygonID:\",polygonID)\n",
    "#         polygon = data_getter(polygonID, 0)\n",
    "#         print(\"polygon.coordinates:\",polygon.coordinates)\n",
    "#         print(\"polygon.edge_index:\", polygon.edge_index)\n",
    "#         print(\"==========\")\n",
    "#         # plot_mesh(polygon, \"title\")"
   ]
  },
  {
   "cell_type": "code",
   "execution_count": 62,
   "metadata": {},
   "outputs": [
    {
     "name": "stdout",
     "output_type": "stream",
     "text": [
      "cuda\n",
      "GMSNet(\n",
      "  (shared_mlp): Conv1d(2, 64, kernel_size=(1,), stride=(1,))\n",
      "  (GNorm): GraphNorm(64)\n",
      "  (conv): GCNConv(64, 64)\n",
      "  (fc1): Linear(in_features=64, out_features=64, bias=True)\n",
      "  (fc2): Linear(in_features=64, out_features=2, bias=True)\n",
      "  (relu): ReLU()\n",
      "  (tanh): Tanh()\n",
      ")\n"
     ]
    }
   ],
   "source": [
    "device = torch.device('cuda' if torch.cuda.is_available() else 'cpu')\n",
    "print(device)\n",
    "model = GMSNet(input_dim=2, feature_dim=64, hidden_channnels=64)\n",
    "model.to(device)\n",
    "print(model)\n",
    "m_loss = MetricLoss()\n",
    "optimizer = torch.optim.Adam(model.parameters(),lr=0.0001)\n",
    "criterion = MetricLoss()\n",
    "#criterion = nn.MSELoss()"
   ]
  },
  {
   "cell_type": "code",
   "execution_count": 63,
   "metadata": {},
   "outputs": [
    {
     "data": {
      "text/plain": [
       "<All keys matched successfully>"
      ]
     },
     "execution_count": 63,
     "metadata": {},
     "output_type": "execute_result"
    }
   ],
   "source": [
    "model.load_state_dict(torch.load('mnt/model_weight.pth'))"
   ]
  },
  {
   "cell_type": "code",
   "execution_count": 64,
   "metadata": {},
   "outputs": [],
   "source": [
    "writer = SummaryWriter(\"logs\")\n",
    "# 学習率を調整するスケジューラの設定\n",
    "scheduler = ReduceLROnPlateau(optimizer, mode=\"min\", patience=2, factor=0.95, verbose=True)\n",
    "\n",
    "loss_list = []\n",
    "\n",
    "def train_(device):\n",
    "    model.train()\n",
    "    loss_list = []\n",
    "    for step, data in enumerate(train_data_loader):\n",
    "        empty_cache()\n",
    "        gc.collect()\n",
    "        # print(f\"Step {step + 1}:\")\n",
    "        # print(\"==========\")\n",
    "        # print(data)\n",
    "        # print(len(data))\n",
    "        minibatch = Minibatch()\n",
    "        minibatch_coordinates = []\n",
    "        all_edge_index_1 = []\n",
    "        all_edge_index_2 = []\n",
    "        batch_list = []\n",
    "        num_dis = 0\n",
    "        metric_loss_list = []\n",
    "        for i in range(len(data)):\n",
    "            # gc.collect()\n",
    "            polygonID = int(data[i].split(\"_\")[-1])\n",
    "            # print(\"polygonID:\",polygonID)\n",
    "            polygon = data_getter(polygonID, 0, train_mesh_data_list, train_polygon_data_list)                                                                     # 270MiB\n",
    "            # plot_mesh(polygon, \"\")      #############################################\n",
    "\n",
    "            # polygon を正規化する\n",
    "            polygon = normalization(polygon)                                                                        # 900MiB\n",
    "            \n",
    "            # plot_mesh(polygon, \"\")      #############################################\n",
    "\n",
    "            # print(\"polygon.coordinates:\",polygon.coordinates)\n",
    "            edge_index = polygon.edge_index + num_dis                               \n",
    "            # print(\"polygon.edge_index:\", edge_index)\n",
    "            all_edge_index_1.append(edge_index[0])\n",
    "            all_edge_index_2.append(edge_index[1])\n",
    "            num_dis = num_dis + len(polygon.coordinates)\n",
    "            # print(\"==========\")\n",
    "            minibatch_coordinates.append(polygon.coordinates)\n",
    "            batch_i = torch.tensor([i]*len(polygon.coordinates))                    \n",
    "            batch_list.append(batch_i)\n",
    "            \n",
    "        # print(minibatch_coordinates)\n",
    "        minibatch.x = torch.cat(minibatch_coordinates, dim=0)\n",
    "        \n",
    "        # print(minibatch.x)\n",
    "        # print(\"minibatch.x.size:\", minibatch.x.size())\n",
    "        edge_index_1 = torch.cat(all_edge_index_1, dim=-1)\n",
    "        edge_index_2 = torch.cat(all_edge_index_2, dim=-1)\n",
    "        minibatch.edge_index = torch.cat([edge_index_1.unsqueeze(0), edge_index_2.unsqueeze(0)], dim=0)\n",
    "        # print(minibatch.edge_index)\n",
    "        # print(\"minibatch.edge_index.size:\", minibatch.edge_index.size())\n",
    "        minibatch.batch = torch.cat(batch_list, dim=0)\n",
    "        # print(minibatch.batch)\n",
    "        # print(\"minibatch.batch.size:\", minibatch.batch.size())\n",
    "\n",
    "        # すべてのデータをGPU上に移動する\n",
    "        minibatch.x = minibatch.x.to(device)\n",
    "        minibatch.edge_index = minibatch.edge_index.to(device)\n",
    "        minibatch.batch = minibatch.batch.to(device)\n",
    "        model.to(device)\n",
    "\n",
    "        out = model(minibatch.x, minibatch.edge_index)                                     # 333MiB\n",
    "        # print(\"out:\", out)\n",
    "        # print(\"out:\", out.size())\n",
    "\n",
    "        for i in range(len(data)):\n",
    "            # gc.collect()\n",
    "            polygonID = int(data[i].split(\"_\")[-1])\n",
    "            polygon = data_getter(polygonID, 0, train_mesh_data_list, train_polygon_data_list)                                                             # 225MiB\n",
    "            polygon = normalization(polygon)                                                                # 932MiB\n",
    "\n",
    "            metric_loss = criterion(polygon)\n",
    "            metric_loss = criterion(polygon, out[i].cpu())\n",
    "            \n",
    "            polygon.coordinates[0] = out[i]\n",
    "\n",
    "            metric_loss_list.append(metric_loss)\n",
    "\n",
    "        loss = (sum(metric_loss_list) / len(metric_loss_list))      # .requires_grad_(True)\n",
    "        print(\"Loss:\", loss)\n",
    "        writer.add_scalar(\"Loss/train\", loss, epoch)\n",
    "        # print(\"loss:\", loss)\n",
    "\n",
    "        loss.backward()\n",
    "        optimizer.step()\n",
    "        \n",
    "        with torch.no_grad():\n",
    "            for i in range(len(data)):\n",
    "                # gc.collect()\n",
    "                polygonID = int(data[i].split(\"_\")[-1])\n",
    "                polygon = data_getter(polygonID, 0, train_mesh_data_list, train_polygon_data_list)                                                             # 225MiB\n",
    "                polygon = normalization(polygon)    \n",
    "                \n",
    "                polygon.coordinates[0] = polygon.coordinates[0] + out[i]\n",
    "                \n",
    "                polygon_meshID = int(train_polygon_data_list[polygonID].meshID.split(\"_\")[-1])\n",
    "                mesh = train_mesh_data_list[polygon_meshID]\n",
    "\n",
    "                mesh.coordinates[train_polygon_data_list[polygonID].nodeID[0]] = polygon.coordinates[0]\n",
    "        \n",
    "        del out\n",
    "        \n",
    "        loss.detach()               # 計算グラフを切り離し、不要な計算グラフが保持されることを防ぐ\n",
    "        optimizer.zero_grad()\n",
    "\n",
    "        # ステップごとに損失をログに記録\n",
    "        writer.add_scalar(\"/mnt/logs\", loss.item(), global_step=len(train_data_loader)*epoch + step)\n",
    "\n",
    "        loss_list.append(loss.item())\n",
    "    \n",
    "    val_loss = sum(loss_list)/ len(loss_list)\n",
    "    scheduler.step(val_loss)\n",
    "\n",
    "\n",
    "def train(device):\n",
    "    model.train()\n",
    "    model.to(device)\n",
    "    \n",
    "    temp = 0\n",
    "    ddd = 0\n",
    "    \n",
    "    for step, data in enumerate(train_data_loader):\n",
    "        \n",
    "        optimizer.zero_grad()\n",
    "        metric_loss = 0\n",
    "        dx_list = []\n",
    "        \n",
    "        for i in range(len(data)):\n",
    "\n",
    "            polygonID = int(data[i].split(\"_\")[-1])\n",
    "            polygon = data_getter(polygonID, 0, train_mesh_data_list, train_polygon_data_list)\n",
    "            polygon = normalization(polygon) \n",
    "\n",
    "            edge_index = polygon.edge_index               \n",
    "            \n",
    "            x = polygon.coordinates.clone().unsqueeze(0).to(device)\n",
    "            ei = edge_index.to(device)\n",
    "            out = model(x, ei)\n",
    "            \n",
    "            logger.info(\"epoch: {:04}, polygonID: {:04}\".format(epoch, polygonID))\n",
    "            logger.info(\"before\")\n",
    "            with torch.no_grad():\n",
    "                ml = criterion(polygon)\n",
    "                logger.info(\"\")\n",
    "            logger.info(\"after\")\n",
    "            l = criterion(polygon, out[0].cpu())\n",
    "            \n",
    "            logger.info(\"\")\n",
    "            \n",
    "            metric_loss += l\n",
    "            dx_list.append(out[0].cpu())\n",
    "                \n",
    "            #prediction_list[polygonID].append(out[0].cpu())\n",
    "            \n",
    "        loss = metric_loss/len(data)\n",
    "        ddd += len(data)\n",
    "        temp += loss\n",
    "        print(\"    Loss:\", loss.item(), polygonID)\n",
    "        \n",
    "        loss.backward()\n",
    "        optimizer.step()\n",
    "        \n",
    "        #if epoch>10:\n",
    "        for i in range(len(data)):\n",
    "\n",
    "            with torch.no_grad():\n",
    "                polygonID = int(data[i].split(\"_\")[-1])\n",
    "\n",
    "                polygon = data_getter(polygonID, 0, train_mesh_data_list, train_polygon_data_list)\n",
    "                polygon = normalization(polygon) \n",
    "\n",
    "                polygon.coordinates[0] = polygon.coordinates[0] + dx_list[i]\n",
    "                polygon = denormalization(polygon)\n",
    "                \n",
    "                polygon_meshID = int(train_polygon_data_list[polygonID].meshID.split(\"_\")[-1])\n",
    "                mesh = train_mesh_data_list[polygon_meshID]\n",
    "                mesh.coordinates[train_polygon_data_list[polygonID].nodeID[0]] = polygon.coordinates[0]\n",
    "\n",
    "            #print()\n",
    "            \n",
    "    loss_list.append(temp/ddd)"
   ]
  },
  {
   "cell_type": "markdown",
   "metadata": {},
   "source": [
    "# 最終的な最適化したメッシュを生成してvtkファイルで出力する"
   ]
  },
  {
   "cell_type": "code",
   "execution_count": 65,
   "metadata": {
    "scrolled": false
   },
   "outputs": [
    {
     "name": "stderr",
     "output_type": "stream",
     "text": [
      "  0%|          | 0/50 [00:00<?, ?it/s]"
     ]
    },
    {
     "name": "stdout",
     "output_type": "stream",
     "text": [
      "    Loss: 0.24135039746761322 149\n",
      "    Loss: 0.20355500280857086 463\n",
      "    Loss: 0.1993480920791626 137\n",
      "    Loss: 0.17992450296878815 436\n",
      "    Loss: 0.15936806797981262 335\n",
      "    Loss: 0.13674911856651306 451\n",
      "    Loss: 0.13232621550559998 272\n",
      "    Loss: 0.11108976602554321 26\n"
     ]
    },
    {
     "name": "stderr",
     "output_type": "stream",
     "text": [
      "  2%|▏         | 1/50 [00:27<22:51, 27.98s/it]"
     ]
    },
    {
     "name": "stdout",
     "output_type": "stream",
     "text": [
      "    Loss: 0.07352583110332489 126\n",
      "    Loss: 0.07243559509515762 50\n",
      "    Loss: 0.06179524213075638 263\n",
      "    Loss: 0.05293716490268707 147\n",
      "    Loss: 0.05316678062081337 282\n",
      "    Loss: 0.04038859158754349 117\n",
      "    Loss: 0.040615569800138474 432\n",
      "    Loss: 0.027610167860984802 338\n"
     ]
    },
    {
     "name": "stderr",
     "output_type": "stream",
     "text": [
      "  4%|▍         | 2/50 [00:55<22:22, 27.96s/it]"
     ]
    },
    {
     "name": "stdout",
     "output_type": "stream",
     "text": [
      "    Loss: 0.025041349232196808 99\n",
      "    Loss: 0.025571508333086967 344\n",
      "    Loss: 0.024019839242100716 180\n",
      "    Loss: 0.01875414326786995 59\n",
      "    Loss: 0.016407418996095657 223\n",
      "    Loss: 0.015033119358122349 213\n",
      "    Loss: 0.013374489732086658 36\n",
      "    Loss: 0.013951859436929226 379\n"
     ]
    },
    {
     "name": "stderr",
     "output_type": "stream",
     "text": [
      "  6%|▌         | 3/50 [01:23<21:51, 27.90s/it]"
     ]
    },
    {
     "name": "stdout",
     "output_type": "stream",
     "text": [
      "    Loss: 0.01175722386687994 458\n",
      "    Loss: 0.00931243784725666 63\n",
      "    Loss: 0.012254495173692703 344\n",
      "    Loss: 0.011367456056177616 278\n",
      "    Loss: 0.01153855212032795 267\n",
      "    Loss: 0.010411499068140984 102\n",
      "    Loss: 0.01017378643155098 392\n",
      "    Loss: 0.006522120907902718 185\n"
     ]
    },
    {
     "name": "stderr",
     "output_type": "stream",
     "text": [
      "  8%|▊         | 4/50 [01:51<21:20, 27.84s/it]"
     ]
    },
    {
     "name": "stdout",
     "output_type": "stream",
     "text": [
      "    Loss: 0.007740807719528675 79\n",
      "    Loss: 0.00836039986461401 248\n",
      "    Loss: 0.010274114087224007 237\n",
      "    Loss: 0.008011925965547562 18\n",
      "    Loss: 0.008059355430305004 380\n",
      "    Loss: 0.00706472946330905 352\n",
      "    Loss: 0.009269317612051964 366\n",
      "    Loss: 0.006578764878213406 91\n"
     ]
    },
    {
     "name": "stderr",
     "output_type": "stream",
     "text": [
      " 10%|█         | 5/50 [02:19<20:54, 27.89s/it]"
     ]
    },
    {
     "name": "stdout",
     "output_type": "stream",
     "text": [
      "    Loss: 0.007362795062363148 302\n",
      "    Loss: 0.008781992830336094 368\n",
      "    Loss: 0.006114892661571503 470\n",
      "    Loss: 0.01004971843212843 212\n",
      "    Loss: 0.007612924091517925 96\n",
      "    Loss: 0.007542525418102741 273\n",
      "    Loss: 0.0052269138395786285 131\n",
      "    Loss: 0.006077512167394161 144\n"
     ]
    },
    {
     "name": "stderr",
     "output_type": "stream",
     "text": [
      " 12%|█▏        | 6/50 [02:47<20:28, 27.93s/it]"
     ]
    },
    {
     "name": "stdout",
     "output_type": "stream",
     "text": [
      "    Loss: 0.006769436877220869 164\n",
      "    Loss: 0.006396990269422531 280\n",
      "    Loss: 0.005991053767502308 295\n",
      "    Loss: 0.007769308984279633 23\n",
      "    Loss: 0.008119892328977585 195\n",
      "    Loss: 0.008384127169847488 142\n",
      "    Loss: 0.0061822677962481976 445\n",
      "    Loss: 0.00580918975174427 148\n"
     ]
    },
    {
     "name": "stderr",
     "output_type": "stream",
     "text": [
      " 14%|█▍        | 7/50 [03:14<19:44, 27.55s/it]"
     ]
    },
    {
     "name": "stdout",
     "output_type": "stream",
     "text": [
      "    Loss: 0.005700263194739819 44\n",
      "    Loss: 0.008548432029783726 479\n",
      "    Loss: 0.005056825000792742 220\n",
      "    Loss: 0.005855269730091095 367\n",
      "    Loss: 0.007079768925905228 190\n",
      "    Loss: 0.006213795393705368 80\n",
      "    Loss: 0.008524887263774872 10\n",
      "    Loss: 0.006434335373342037 208\n"
     ]
    },
    {
     "name": "stderr",
     "output_type": "stream",
     "text": [
      " 16%|█▌        | 8/50 [03:42<19:23, 27.69s/it]"
     ]
    },
    {
     "name": "stdout",
     "output_type": "stream",
     "text": [
      "    Loss: 0.007056636735796928 151\n",
      "    Loss: 0.006541329901665449 172\n",
      "    Loss: 0.005536191165447235 90\n",
      "    Loss: 0.007812855765223503 461\n",
      "    Loss: 0.007534930482506752 125\n",
      "    Loss: 0.006322293542325497 373\n",
      "    Loss: 0.004762333817780018 21\n",
      "    Loss: 0.00683737313374877 346\n"
     ]
    },
    {
     "name": "stderr",
     "output_type": "stream",
     "text": [
      " 18%|█▊        | 9/50 [04:09<18:50, 27.57s/it]"
     ]
    },
    {
     "name": "stdout",
     "output_type": "stream",
     "text": [
      "    Loss: 0.007387867197394371 126\n",
      "    Loss: 0.005300187971442938 227\n",
      "    Loss: 0.008132106624543667 371\n",
      "    Loss: 0.007015197072178125 242\n",
      "    Loss: 0.005360657814890146 35\n",
      "    Loss: 0.00643062312155962 287\n",
      "    Loss: 0.0059357620775699615 34\n",
      "    Loss: 0.005642148200422525 51\n"
     ]
    },
    {
     "name": "stderr",
     "output_type": "stream",
     "text": [
      " 20%|██        | 10/50 [04:38<18:34, 27.85s/it]"
     ]
    },
    {
     "name": "stdout",
     "output_type": "stream",
     "text": [
      "    Loss: 0.004936777055263519 485\n",
      "    Loss: 0.007004204206168652 418\n",
      "    Loss: 0.0040082926861941814 209\n",
      "    Loss: 0.007468454539775848 308\n",
      "    Loss: 0.007133202627301216 348\n",
      "    Loss: 0.0045625753700733185 115\n",
      "    Loss: 0.007777924183756113 142\n",
      "    Loss: 0.008373098447918892 421\n"
     ]
    },
    {
     "name": "stderr",
     "output_type": "stream",
     "text": [
      " 22%|██▏       | 11/50 [05:04<17:51, 27.47s/it]"
     ]
    },
    {
     "name": "stdout",
     "output_type": "stream",
     "text": [
      "    Loss: 0.006629450712352991 430\n",
      "    Loss: 0.0071769943460822105 94\n",
      "    Loss: 0.008109424263238907 161\n",
      "    Loss: 0.005766445305198431 346\n",
      "    Loss: 0.006563771050423384 240\n",
      "    Loss: 0.0046025109477341175 120\n",
      "    Loss: 0.0067853182554244995 171\n",
      "    Loss: 0.0038432462606579065 213\n"
     ]
    },
    {
     "name": "stderr",
     "output_type": "stream",
     "text": [
      " 24%|██▍       | 12/50 [05:33<17:35, 27.78s/it]"
     ]
    },
    {
     "name": "stdout",
     "output_type": "stream",
     "text": [
      "    Loss: 0.007193050347268581 81\n",
      "    Loss: 0.007204851601272821 266\n",
      "    Loss: 0.006832352373749018 42\n",
      "    Loss: 0.005089346785098314 311\n",
      "    Loss: 0.005343465134501457 375\n",
      "    Loss: 0.005719572305679321 138\n",
      "    Loss: 0.006941023748368025 478\n",
      "    Loss: 0.005131727084517479 142\n"
     ]
    },
    {
     "name": "stderr",
     "output_type": "stream",
     "text": [
      " 26%|██▌       | 13/50 [05:59<16:56, 27.47s/it]"
     ]
    },
    {
     "name": "stdout",
     "output_type": "stream",
     "text": [
      "    Loss: 0.005600101314485073 428\n",
      "    Loss: 0.009642095305025578 209\n",
      "    Loss: 0.0048868125304579735 144\n",
      "    Loss: 0.0038655272219330072 252\n",
      "    Loss: 0.00624094158411026 106\n",
      "    Loss: 0.006414716597646475 203\n",
      "    Loss: 0.007981689646840096 88\n",
      "    Loss: 0.0042029176838696 16\n"
     ]
    },
    {
     "name": "stderr",
     "output_type": "stream",
     "text": [
      " 28%|██▊       | 14/50 [06:26<16:19, 27.20s/it]"
     ]
    },
    {
     "name": "stdout",
     "output_type": "stream",
     "text": [
      "    Loss: 0.009175579994916916 267\n",
      "    Loss: 0.0055177598260343075 295\n",
      "    Loss: 0.005203411914408207 494\n",
      "    Loss: 0.007319681346416473 213\n",
      "    Loss: 0.005298939999192953 403\n",
      "    Loss: 0.005378352478146553 226\n",
      "    Loss: 0.005550052039325237 252\n",
      "    Loss: 0.005448296200484037 59\n"
     ]
    },
    {
     "name": "stderr",
     "output_type": "stream",
     "text": [
      " 30%|███       | 15/50 [06:55<16:11, 27.77s/it]"
     ]
    },
    {
     "name": "stdout",
     "output_type": "stream",
     "text": [
      "    Loss: 0.004842682275921106 145\n",
      "    Loss: 0.0036157225258648396 195\n",
      "    Loss: 0.005830308888107538 228\n",
      "    Loss: 0.007268826011568308 59\n",
      "    Loss: 0.007029200904071331 464\n",
      "    Loss: 0.009430068545043468 119\n",
      "    Loss: 0.004199432674795389 133\n",
      "    Loss: 0.0068326545879244804 475\n"
     ]
    },
    {
     "name": "stderr",
     "output_type": "stream",
     "text": [
      " 32%|███▏      | 16/50 [07:22<15:31, 27.38s/it]"
     ]
    },
    {
     "name": "stdout",
     "output_type": "stream",
     "text": [
      "    Loss: 0.00478948000818491 275\n",
      "    Loss: 0.005602792836725712 178\n",
      "    Loss: 0.006934688426554203 47\n",
      "    Loss: 0.005634560715407133 26\n",
      "    Loss: 0.006377992685884237 220\n",
      "    Loss: 0.007929321378469467 263\n",
      "    Loss: 0.006693248637020588 406\n",
      "    Loss: 0.004147867206484079 328\n"
     ]
    },
    {
     "name": "stderr",
     "output_type": "stream",
     "text": [
      " 34%|███▍      | 17/50 [07:48<14:55, 27.14s/it]"
     ]
    },
    {
     "name": "stdout",
     "output_type": "stream",
     "text": [
      "    Loss: 0.00658485246822238 82\n",
      "    Loss: 0.0049561988562345505 370\n",
      "    Loss: 0.004980846773833036 207\n",
      "    Loss: 0.005467056762427092 16\n",
      "    Loss: 0.0067705861292779446 124\n",
      "    Loss: 0.005131885875016451 57\n",
      "    Loss: 0.006192565429955721 493\n",
      "    Loss: 0.009169723838567734 492\n"
     ]
    },
    {
     "name": "stderr",
     "output_type": "stream",
     "text": [
      " 36%|███▌      | 18/50 [08:18<14:52, 27.89s/it]"
     ]
    },
    {
     "name": "stdout",
     "output_type": "stream",
     "text": [
      "    Loss: 0.004511207342147827 129\n",
      "    Loss: 0.0051621305756270885 455\n",
      "    Loss: 0.00525030167773366 161\n",
      "    Loss: 0.006048253271728754 244\n",
      "    Loss: 0.007064547855407 303\n",
      "    Loss: 0.008351016789674759 297\n",
      "    Loss: 0.0068434784188866615 114\n",
      "    Loss: 0.004672451410442591 389\n"
     ]
    },
    {
     "name": "stderr",
     "output_type": "stream",
     "text": [
      " 38%|███▊      | 19/50 [08:45<14:14, 27.57s/it]"
     ]
    },
    {
     "name": "stdout",
     "output_type": "stream",
     "text": [
      "    Loss: 0.005759804509580135 296\n",
      "    Loss: 0.005419991910457611 268\n",
      "    Loss: 0.007463954389095306 100\n",
      "    Loss: 0.005682323593646288 81\n",
      "    Loss: 0.0041435412131249905 343\n",
      "    Loss: 0.0047497497871518135 325\n",
      "    Loss: 0.010136269964277744 57\n",
      "    Loss: 0.004359923303127289 46\n"
     ]
    },
    {
     "name": "stderr",
     "output_type": "stream",
     "text": [
      " 40%|████      | 20/50 [09:11<13:38, 27.30s/it]"
     ]
    },
    {
     "name": "stdout",
     "output_type": "stream",
     "text": [
      "    Loss: 0.0055981650948524475 254\n",
      "    Loss: 0.007371549494564533 133\n",
      "    Loss: 0.005828243680298328 487\n",
      "    Loss: 0.004423738922923803 321\n",
      "    Loss: 0.007484997157007456 38\n",
      "    Loss: 0.007531288545578718 421\n",
      "    Loss: 0.00422863382846117 24\n",
      "    Loss: 0.005422819871455431 61\n"
     ]
    },
    {
     "name": "stderr",
     "output_type": "stream",
     "text": [
      " 42%|████▏     | 21/50 [09:38<13:05, 27.08s/it]"
     ]
    },
    {
     "name": "stdout",
     "output_type": "stream",
     "text": [
      "    Loss: 0.008377994410693645 245\n",
      "    Loss: 0.004549023695290089 151\n",
      "    Loss: 0.006461349781602621 483\n",
      "    Loss: 0.006297016981989145 368\n",
      "    Loss: 0.0073087443597614765 288\n",
      "    Loss: 0.0042445966973900795 0\n",
      "    Loss: 0.004920403007417917 147\n",
      "    Loss: 0.005672142840921879 286\n"
     ]
    },
    {
     "name": "stderr",
     "output_type": "stream",
     "text": [
      " 44%|████▍     | 22/50 [10:04<12:33, 26.93s/it]"
     ]
    },
    {
     "name": "stdout",
     "output_type": "stream",
     "text": [
      "    Loss: 0.004299398977309465 379\n",
      "    Loss: 0.004796606954187155 458\n",
      "    Loss: 0.009886834770441055 48\n",
      "    Loss: 0.007350511848926544 44\n",
      "    Loss: 0.005252957344055176 334\n",
      "    Loss: 0.005426823627203703 81\n",
      "    Loss: 0.006192450877279043 79\n",
      "    Loss: 0.004108530003577471 16\n"
     ]
    },
    {
     "name": "stderr",
     "output_type": "stream",
     "text": [
      " 46%|████▌     | 23/50 [10:35<12:33, 27.92s/it]"
     ]
    },
    {
     "name": "stdout",
     "output_type": "stream",
     "text": [
      "    Loss: 0.0057190838269889355 120\n",
      "    Loss: 0.004656434990465641 165\n",
      "    Loss: 0.005317599046975374 439\n",
      "    Loss: 0.005116327665746212 366\n",
      "    Loss: 0.004595582373440266 313\n",
      "    Loss: 0.007318190298974514 115\n",
      "    Loss: 0.006616024300456047 430\n",
      "    Loss: 0.009281459264457226 446\n"
     ]
    },
    {
     "name": "stderr",
     "output_type": "stream",
     "text": [
      " 48%|████▊     | 24/50 [11:01<11:57, 27.59s/it]"
     ]
    },
    {
     "name": "stdout",
     "output_type": "stream",
     "text": [
      "    Loss: 0.0050688148476183414 117\n",
      "    Loss: 0.0071531119756400585 363\n",
      "    Loss: 0.00505933677777648 265\n",
      "    Loss: 0.0049456702545285225 119\n",
      "    Loss: 0.008194179274141788 32\n",
      "    Loss: 0.005385230295360088 340\n",
      "    Loss: 0.005905493162572384 320\n",
      "    Loss: 0.005949172656983137 158\n"
     ]
    },
    {
     "name": "stderr",
     "output_type": "stream",
     "text": [
      " 50%|█████     | 25/50 [11:28<11:23, 27.33s/it]"
     ]
    },
    {
     "name": "stdout",
     "output_type": "stream",
     "text": [
      "    Loss: 0.005570479668676853 97\n",
      "    Loss: 0.0055160000920295715 270\n",
      "    Loss: 0.0057790824212133884 228\n",
      "    Loss: 0.006205783225595951 178\n",
      "    Loss: 0.0053436290472745895 336\n",
      "    Loss: 0.006073252763599157 160\n",
      "    Loss: 0.007239145692437887 486\n",
      "    Loss: 0.005828455556184053 54\n"
     ]
    },
    {
     "name": "stderr",
     "output_type": "stream",
     "text": [
      " 52%|█████▏    | 26/50 [11:55<10:50, 27.12s/it]"
     ]
    },
    {
     "name": "stdout",
     "output_type": "stream",
     "text": [
      "    Loss: 0.005084628239274025 356\n",
      "    Loss: 0.005534077063202858 60\n",
      "    Loss: 0.006636493373662233 323\n",
      "    Loss: 0.007647195365279913 400\n",
      "    Loss: 0.005822759121656418 93\n",
      "    Loss: 0.006968226283788681 353\n",
      "    Loss: 0.0049995663575828075 438\n",
      "    Loss: 0.004433698020875454 325\n"
     ]
    },
    {
     "name": "stderr",
     "output_type": "stream",
     "text": [
      " 54%|█████▍    | 27/50 [12:22<10:21, 27.00s/it]"
     ]
    },
    {
     "name": "stdout",
     "output_type": "stream",
     "text": [
      "    Loss: 0.005460359621793032 198\n",
      "    Loss: 0.006013629958033562 237\n",
      "    Loss: 0.005802194122225046 92\n",
      "    Loss: 0.006656891666352749 444\n",
      "    Loss: 0.006876929197460413 218\n",
      "    Loss: 0.006599915213882923 424\n",
      "    Loss: 0.0045658014714717865 314\n",
      "    Loss: 0.005326710641384125 223\n"
     ]
    },
    {
     "name": "stderr",
     "output_type": "stream",
     "text": [
      " 56%|█████▌    | 28/50 [12:52<10:19, 28.17s/it]"
     ]
    },
    {
     "name": "stdout",
     "output_type": "stream",
     "text": [
      "    Loss: 0.007179909385740757 4\n",
      "    Loss: 0.0041176797822117805 492\n",
      "    Loss: 0.0038047702983021736 459\n",
      "    Loss: 0.006931359879672527 378\n",
      "    Loss: 0.007647610269486904 163\n",
      "    Loss: 0.007009326014667749 260\n",
      "    Loss: 0.006285284645855427 6\n",
      "    Loss: 0.0038911523297429085 227\n"
     ]
    },
    {
     "name": "stderr",
     "output_type": "stream",
     "text": [
      " 58%|█████▊    | 29/50 [13:19<09:44, 27.84s/it]"
     ]
    },
    {
     "name": "stdout",
     "output_type": "stream",
     "text": [
      "    Loss: 0.00660553015768528 385\n",
      "    Loss: 0.0030801172833889723 253\n",
      "    Loss: 0.005682077724486589 444\n",
      "    Loss: 0.004376708064228296 34\n",
      "    Loss: 0.007439726032316685 312\n",
      "    Loss: 0.007352751679718494 129\n",
      "    Loss: 0.005078232381492853 242\n",
      "    Loss: 0.008409292437136173 441\n"
     ]
    },
    {
     "name": "stderr",
     "output_type": "stream",
     "text": [
      " 60%|██████    | 30/50 [13:46<09:11, 27.58s/it]"
     ]
    },
    {
     "name": "stdout",
     "output_type": "stream",
     "text": [
      "    Loss: 0.006232999265193939 245\n",
      "    Loss: 0.007572297938168049 217\n",
      "    Loss: 0.006493470165878534 152\n",
      "    Loss: 0.004736877512186766 82\n",
      "    Loss: 0.0027581127360463142 37\n",
      "    Loss: 0.005623881239444017 398\n",
      "    Loss: 0.009267192333936691 358\n",
      "    Loss: 0.0041545904241502285 282\n"
     ]
    },
    {
     "name": "stderr",
     "output_type": "stream",
     "text": [
      " 62%|██████▏   | 31/50 [14:13<08:40, 27.38s/it]"
     ]
    },
    {
     "name": "stdout",
     "output_type": "stream",
     "text": [
      "    Loss: 0.005802574567496777 74\n",
      "    Loss: 0.00790463201701641 39\n",
      "    Loss: 0.004447374027222395 284\n",
      "    Loss: 0.006221954245120287 4\n",
      "    Loss: 0.005528225563466549 77\n",
      "    Loss: 0.008477539755403996 355\n",
      "    Loss: 0.0028720758855342865 459\n",
      "    Loss: 0.00605503236874938 465\n"
     ]
    },
    {
     "name": "stderr",
     "output_type": "stream",
     "text": [
      " 64%|██████▍   | 32/50 [14:40<08:10, 27.27s/it]"
     ]
    },
    {
     "name": "stdout",
     "output_type": "stream",
     "text": [
      "    Loss: 0.0051340339705348015 131\n",
      "    Loss: 0.007433790247887373 383\n",
      "    Loss: 0.004479705356061459 245\n",
      "    Loss: 0.010034948587417603 302\n",
      "    Loss: 0.004171562846750021 459\n",
      "    Loss: 0.00430438993498683 269\n",
      "    Loss: 0.0058765774592757225 111\n",
      "    Loss: 0.005753754172474146 74\n"
     ]
    },
    {
     "name": "stderr",
     "output_type": "stream",
     "text": [
      " 66%|██████▌   | 33/50 [15:07<07:41, 27.13s/it]"
     ]
    },
    {
     "name": "stdout",
     "output_type": "stream",
     "text": [
      "    Loss: 0.00562191242352128 198\n",
      "    Loss: 0.0061312951147556305 111\n",
      "    Loss: 0.005486748181283474 433\n",
      "    Loss: 0.0050816843286156654 392\n",
      "    Loss: 0.006166999228298664 475\n",
      "    Loss: 0.004775854758918285 32\n",
      "    Loss: 0.004878400359302759 364\n",
      "    Loss: 0.010183645412325859 70\n"
     ]
    },
    {
     "name": "stderr",
     "output_type": "stream",
     "text": [
      " 68%|██████▊   | 34/50 [15:39<07:38, 28.67s/it]"
     ]
    },
    {
     "name": "stdout",
     "output_type": "stream",
     "text": [
      "    Loss: 0.003995466511696577 393\n",
      "    Loss: 0.008805743418633938 303\n",
      "    Loss: 0.0036824445705860853 145\n",
      "    Loss: 0.00556276086717844 215\n",
      "    Loss: 0.005724139045923948 11\n",
      "    Loss: 0.003921014256775379 456\n",
      "    Loss: 0.0059679774567484856 141\n",
      "    Loss: 0.010798156261444092 493\n"
     ]
    },
    {
     "name": "stderr",
     "output_type": "stream",
     "text": [
      " 70%|███████   | 35/50 [16:06<07:01, 28.12s/it]"
     ]
    },
    {
     "name": "stdout",
     "output_type": "stream",
     "text": [
      "    Loss: 0.004996080417186022 228\n",
      "    Loss: 0.00813368521630764 334\n",
      "    Loss: 0.0054462808184325695 356\n",
      "    Loss: 0.006219605915248394 28\n",
      "    Loss: 0.007362068630754948 196\n",
      "    Loss: 0.00538298673927784 475\n",
      "    Loss: 0.004633110947906971 193\n",
      "    Loss: 0.00460821995511651 486\n"
     ]
    },
    {
     "name": "stderr",
     "output_type": "stream",
     "text": [
      " 72%|███████▏  | 36/50 [16:33<06:28, 27.74s/it]"
     ]
    },
    {
     "name": "stdout",
     "output_type": "stream",
     "text": [
      "    Loss: 0.006892414763569832 232\n",
      "    Loss: 0.005327208433300257 430\n",
      "    Loss: 0.006226727273315191 77\n",
      "    Loss: 0.004490043502300978 215\n",
      "    Loss: 0.007366758305579424 449\n",
      "    Loss: 0.005505761131644249 367\n",
      "    Loss: 0.006482386961579323 15\n",
      "    Loss: 0.004404786508530378 210\n"
     ]
    },
    {
     "name": "stderr",
     "output_type": "stream",
     "text": [
      " 74%|███████▍  | 37/50 [17:00<05:57, 27.52s/it]"
     ]
    },
    {
     "name": "stdout",
     "output_type": "stream",
     "text": [
      "    Loss: 0.0066948565654456615 418\n",
      "    Loss: 0.00539927976205945 326\n",
      "    Loss: 0.007561847101897001 150\n",
      "    Loss: 0.005825642962008715 223\n",
      "    Loss: 0.006081217899918556 84\n",
      "    Loss: 0.005769132170826197 290\n",
      "    Loss: 0.004480328876525164 235\n",
      "    Loss: 0.005020401440560818 123\n"
     ]
    },
    {
     "name": "stderr",
     "output_type": "stream",
     "text": [
      " 76%|███████▌  | 38/50 [17:27<05:28, 27.38s/it]"
     ]
    },
    {
     "name": "stdout",
     "output_type": "stream",
     "text": [
      "    Loss: 0.00578216090798378 374\n",
      "    Loss: 0.005552236922085285 299\n",
      "    Loss: 0.006199635099619627 420\n",
      "    Loss: 0.002911752089858055 412\n",
      "    Loss: 0.006670081987977028 268\n",
      "    Loss: 0.006782700307667255 409\n",
      "    Loss: 0.006281446665525436 91\n",
      "    Loss: 0.007208488881587982 255\n"
     ]
    },
    {
     "name": "stderr",
     "output_type": "stream",
     "text": [
      " 78%|███████▊  | 39/50 [17:54<05:00, 27.30s/it]"
     ]
    },
    {
     "name": "stdout",
     "output_type": "stream",
     "text": [
      "    Loss: 0.007632662542164326 136\n",
      "    Loss: 0.0051068407483398914 112\n",
      "    Loss: 0.0037464292254298925 216\n",
      "    Loss: 0.00556526193395257 23\n",
      "    Loss: 0.006603286135941744 386\n",
      "    Loss: 0.0035409186966717243 83\n",
      "    Loss: 0.009831487201154232 57\n",
      "    Loss: 0.0046609556302428246 201\n"
     ]
    },
    {
     "name": "stderr",
     "output_type": "stream",
     "text": [
      " 80%|████████  | 40/50 [18:21<04:31, 27.18s/it]"
     ]
    },
    {
     "name": "stdout",
     "output_type": "stream",
     "text": [
      "    Loss: 0.006633729208260775 307\n",
      "    Loss: 0.0054039121605455875 39\n",
      "    Loss: 0.004891933407634497 111\n",
      "    Loss: 0.004107710439711809 290\n",
      "    Loss: 0.005628798622637987 342\n",
      "    Loss: 0.008307515643537045 142\n",
      "    Loss: 0.004624974448233843 3\n",
      "    Loss: 0.007935836911201477 235\n"
     ]
    },
    {
     "name": "stderr",
     "output_type": "stream",
     "text": [
      " 82%|████████▏ | 41/50 [18:54<04:21, 29.01s/it]"
     ]
    },
    {
     "name": "stdout",
     "output_type": "stream",
     "text": [
      "    Loss: 0.006920707877725363 257\n",
      "    Loss: 0.004716079216450453 238\n",
      "    Loss: 0.004435128532350063 164\n",
      "    Loss: 0.006734143011271954 416\n",
      "    Loss: 0.005679834634065628 151\n",
      "    Loss: 0.00827769748866558 19\n",
      "    Loss: 0.003974515944719315 400\n",
      "    Loss: 0.006354047916829586 115\n"
     ]
    },
    {
     "name": "stderr",
     "output_type": "stream",
     "text": [
      " 84%|████████▍ | 42/50 [19:21<03:46, 28.37s/it]"
     ]
    },
    {
     "name": "stdout",
     "output_type": "stream",
     "text": [
      "    Loss: 0.0049523175694048405 376\n",
      "    Loss: 0.006027406081557274 139\n",
      "    Loss: 0.005738357547670603 323\n",
      "    Loss: 0.005803044885396957 79\n",
      "    Loss: 0.011140511371195316 363\n",
      "    Loss: 0.005160263739526272 54\n",
      "    Loss: 0.004209175705909729 62\n",
      "    Loss: 0.0031963856890797615 132\n"
     ]
    },
    {
     "name": "stderr",
     "output_type": "stream",
     "text": [
      " 86%|████████▌ | 43/50 [19:48<03:15, 27.94s/it]"
     ]
    },
    {
     "name": "stdout",
     "output_type": "stream",
     "text": [
      "    Loss: 0.006594139151275158 421\n",
      "    Loss: 0.004191310610622168 136\n",
      "    Loss: 0.005742290522903204 417\n",
      "    Loss: 0.0044503966346383095 31\n",
      "    Loss: 0.006035772152245045 240\n",
      "    Loss: 0.006343941669911146 11\n",
      "    Loss: 0.007687247823923826 18\n",
      "    Loss: 0.0058847712352871895 416\n"
     ]
    },
    {
     "name": "stderr",
     "output_type": "stream",
     "text": [
      " 88%|████████▊ | 44/50 [20:15<02:45, 27.63s/it]"
     ]
    },
    {
     "name": "stdout",
     "output_type": "stream",
     "text": [
      "    Loss: 0.003929025959223509 458\n",
      "    Loss: 0.006530318409204483 30\n",
      "    Loss: 0.005241419654339552 76\n",
      "    Loss: 0.005500369239598513 94\n",
      "    Loss: 0.010055803693830967 469\n",
      "    Loss: 0.005757311824709177 366\n",
      "    Loss: 0.005168404895812273 103\n",
      "    Loss: 0.004316471517086029 347\n"
     ]
    },
    {
     "name": "stderr",
     "output_type": "stream",
     "text": [
      " 90%|█████████ | 45/50 [20:42<02:16, 27.37s/it]"
     ]
    },
    {
     "name": "stdout",
     "output_type": "stream",
     "text": [
      "    Loss: 0.0066970898769795895 61\n",
      "    Loss: 0.008174506016075611 43\n",
      "    Loss: 0.0030038943514227867 382\n",
      "    Loss: 0.005885504651814699 305\n",
      "    Loss: 0.0044190362095832825 481\n",
      "    Loss: 0.007169110234826803 324\n",
      "    Loss: 0.005109709687530994 332\n",
      "    Loss: 0.006632350850850344 252\n"
     ]
    },
    {
     "name": "stderr",
     "output_type": "stream",
     "text": [
      " 92%|█████████▏| 46/50 [21:08<01:48, 27.11s/it]"
     ]
    },
    {
     "name": "stdout",
     "output_type": "stream",
     "text": [
      "    Loss: 0.003944518975913525 367\n",
      "    Loss: 0.005625818856060505 420\n",
      "    Loss: 0.0051455432549119 412\n",
      "    Loss: 0.004081457853317261 151\n",
      "    Loss: 0.007592268753796816 329\n",
      "    Loss: 0.005608055274933577 463\n",
      "    Loss: 0.008812897838652134 268\n",
      "    Loss: 0.006131130736321211 337\n"
     ]
    },
    {
     "name": "stderr",
     "output_type": "stream",
     "text": [
      " 94%|█████████▍| 47/50 [21:35<01:21, 27.01s/it]"
     ]
    },
    {
     "name": "stdout",
     "output_type": "stream",
     "text": [
      "    Loss: 0.004513479769229889 205\n",
      "    Loss: 0.005501151084899902 449\n",
      "    Loss: 0.004121978301554918 486\n",
      "    Loss: 0.004369522910565138 448\n",
      "    Loss: 0.007096129935234785 491\n",
      "    Loss: 0.005006504710763693 33\n",
      "    Loss: 0.008474782109260559 2\n",
      "    Loss: 0.008467864245176315 430\n"
     ]
    },
    {
     "name": "stderr",
     "output_type": "stream",
     "text": [
      " 96%|█████████▌| 48/50 [22:02<00:53, 26.93s/it]"
     ]
    },
    {
     "name": "stdout",
     "output_type": "stream",
     "text": [
      "    Loss: 0.003635892877355218 475\n",
      "    Loss: 0.006263712886720896 157\n",
      "    Loss: 0.006701363250613213 416\n",
      "    Loss: 0.006520072929561138 492\n",
      "    Loss: 0.004759487230330706 271\n",
      "    Loss: 0.004855487495660782 79\n",
      "    Loss: 0.006343975197523832 385\n",
      "    Loss: 0.008453636430203915 99\n"
     ]
    },
    {
     "name": "stderr",
     "output_type": "stream",
     "text": [
      " 98%|█████████▊| 49/50 [22:29<00:26, 26.88s/it]"
     ]
    },
    {
     "name": "stdout",
     "output_type": "stream",
     "text": [
      "    Loss: 0.006370725110173225 403\n",
      "    Loss: 0.005448912736028433 313\n",
      "    Loss: 0.006342324428260326 318\n",
      "    Loss: 0.005641389172524214 317\n",
      "    Loss: 0.005784553941339254 431\n",
      "    Loss: 0.007568689528852701 40\n",
      "    Loss: 0.004416914656758308 387\n",
      "    Loss: 0.0050368532538414 421\n"
     ]
    },
    {
     "name": "stderr",
     "output_type": "stream",
     "text": [
      "100%|██████████| 50/50 [22:56<00:00, 27.52s/it]\n"
     ]
    }
   ],
   "source": [
    "# TensorBoard用のログディレクトリを指定\n",
    "writer = SummaryWriter(\"/mnt/logs\")\n",
    "epoch = 0\n",
    "\n",
    "import torch\n",
    "torch.autograd.set_detect_anomaly(True)\n",
    "\n",
    "for j in range(num_train_mesh):\n",
    "        save_mesh(train_mesh_data_list[j], f\"{epoch}_{j}\")\n",
    "\n",
    "for epoch in tqdm(range(num_train_epoch)):\n",
    "    #print(\"epoch:\", epoch)\n",
    "    train(device)\n",
    "\n",
    "    # for i in range(num_train_mesh):\n",
    "    #     plot_mesh(train_mesh_data_list[i], f\"{i}\")\n",
    "    for j in range(num_train_mesh):\n",
    "        save_mesh(train_mesh_data_list[j], f\"{epoch+1}_{j}\")\n",
    "    \n",
    "writer.close()\n",
    "\n"
   ]
  },
  {
   "cell_type": "code",
   "execution_count": 79,
   "metadata": {},
   "outputs": [
    {
     "data": {
      "text/plain": [
       "tensor([[2, 1, 0],\n",
       "        [4, 5, 0],\n",
       "        [4, 0, 1],\n",
       "        [3, 2, 0],\n",
       "        [0, 5, 6],\n",
       "        [0, 6, 3]])"
      ]
     },
     "execution_count": 79,
     "metadata": {},
     "output_type": "execute_result"
    }
   ],
   "source": [
    "polygon = data_getter(26, 0, train_mesh_data_list, train_polygon_data_list)\n",
    "polygon.faces"
   ]
  },
  {
   "cell_type": "code",
   "execution_count": 80,
   "metadata": {},
   "outputs": [
    {
     "data": {
      "text/plain": [
       "tensor([[ -91.8903,  -85.4883],\n",
       "        [-100.0000,  -90.0000],\n",
       "        [-100.0000,  -80.0000],\n",
       "        [ -91.0944,  -75.6856],\n",
       "        [ -93.4934,  -93.4850],\n",
       "        [ -85.3893,  -92.0219],\n",
       "        [ -81.5716,  -82.1023]])"
      ]
     },
     "execution_count": 80,
     "metadata": {},
     "output_type": "execute_result"
    }
   ],
   "source": [
    "polygon.coordinates"
   ]
  },
  {
   "cell_type": "code",
   "execution_count": 81,
   "metadata": {},
   "outputs": [
    {
     "data": {
      "text/plain": [
       "tensor([[-0.0862,  0.0808],\n",
       "        [-0.5263, -0.1640],\n",
       "        [-0.5263,  0.3786],\n",
       "        [-0.0430,  0.6127],\n",
       "        [-0.1732, -0.3532],\n",
       "        [ 0.2666, -0.2738],\n",
       "        [ 0.4737,  0.2645]])"
      ]
     },
     "execution_count": 81,
     "metadata": {},
     "output_type": "execute_result"
    }
   ],
   "source": [
    "polygon_ = normalization(polygon)\n",
    "polygon_.coordinates +torch.tensor([-0.08619694411754608, 0.08077329397201538])"
   ]
  },
  {
   "cell_type": "code",
   "execution_count": 82,
   "metadata": {},
   "outputs": [
    {
     "data": {
      "text/plain": [
       "<matplotlib.collections.PathCollection at 0x7f9b581d77f0>"
      ]
     },
     "execution_count": 82,
     "metadata": {},
     "output_type": "execute_result"
    },
    {
     "data": {
      "image/png": "[encoded data removed]",
      "text/plain": [
       "<Figure size 640x480 with 1 Axes>"
      ]
     },
     "metadata": {},
     "output_type": "display_data"
    }
   ],
   "source": [
    "plt.scatter(polygon.coordinates.T[0], polygon.coordinates.T[1])"
   ]
  },
  {
   "cell_type": "code",
   "execution_count": 83,
   "metadata": {},
   "outputs": [
    {
     "data": {
      "image/png": "[encoded data removed]",
      "text/plain": [
       "<Figure size 640x480 with 1 Axes>"
      ]
     },
     "metadata": {},
     "output_type": "display_data"
    }
   ],
   "source": [
    "for i in range(num_train_mesh):\n",
    "    plot_mesh(train_mesh_data_list[i], f\"{i}\")"
   ]
  },
  {
   "cell_type": "code",
   "execution_count": 84,
   "metadata": {},
   "outputs": [],
   "source": [
    "def test(device, trial, test_mesh_data_lists):\n",
    "    model.eval()\n",
    "    for step, data in enumerate(test_data_loader):\n",
    "        empty_cache()\n",
    "        gc.collect()\n",
    "        # print(f\"Step {step + 1}:\")\n",
    "        # print(\"==========\")\n",
    "        # print(data)\n",
    "        # print(len(data))\n",
    "        minibatch = Minibatch()\n",
    "        minibatch_coordinates = []\n",
    "        all_edge_index_1 = []\n",
    "        all_edge_index_2 = []\n",
    "        batch_list = []\n",
    "        num_dis = 0\n",
    "        metric_loss_list = []\n",
    "        for i in range(len(data)):\n",
    "            # gc.collect()\n",
    "            polygonID = int(data[i].split(\"_\")[-1])\n",
    "            # print(\"polygonID:\",polygonID)\n",
    "            polygon = data_getter(polygonID, trial, test_mesh_data_list, test_polygon_data_list)\n",
    "            # polygon を正規化する\n",
    "            polygon = normalization(polygon)\n",
    "            # print(\"polygon.coordinates:\",polygon.coordinates)\n",
    "            edge_index = polygon.edge_index + num_dis\n",
    "            # print(\"polygon.edge_index:\", edge_index)\n",
    "            all_edge_index_1.append(edge_index[0])\n",
    "            all_edge_index_2.append(edge_index[1])\n",
    "            num_dis = num_dis + len(polygon.coordinates)\n",
    "            # print(\"==========\")\n",
    "            minibatch_coordinates.append(polygon.coordinates)\n",
    "            batch_i = torch.tensor([i]*len(polygon.coordinates))\n",
    "            batch_list.append(batch_i)\n",
    "            \n",
    "        # print(minibatch_coordinates)\n",
    "        minibatch.x = torch.cat(minibatch_coordinates, dim=0)\n",
    "        \n",
    "        # print(minibatch.x)\n",
    "        # print(\"minibatch.x.size:\", minibatch.x.size())\n",
    "        edge_index_1 = torch.cat(all_edge_index_1, dim=-1)\n",
    "        edge_index_2 = torch.cat(all_edge_index_2, dim=-1)\n",
    "        minibatch.edge_index = torch.cat([edge_index_1.unsqueeze(0), edge_index_2.unsqueeze(0)], dim=0)\n",
    "        # print(minibatch.edge_index)\n",
    "        # print(\"minibatch.edge_index.size:\", minibatch.edge_index.size())\n",
    "        minibatch.batch = torch.cat(batch_list, dim=0)\n",
    "        # print(minibatch.batch)\n",
    "        # print(\"minibatch.batch.size:\", minibatch.batch.size())\n",
    "\n",
    "        # すべてのデータをGPU上に移動する\n",
    "        minibatch.x = minibatch.x.to(device)\n",
    "        minibatch.edge_index = minibatch.edge_index.to(device)\n",
    "        minibatch.batch = minibatch.batch.to(device)\n",
    "        model.to(device)\n",
    "\n",
    "        out = model(minibatch.x, minibatch.edge_index, minibatch.batch)\n",
    "        # print(\"out:\", out)\n",
    "        # print(\"out:\", out.size())\n",
    "\n",
    "        for i in range(len(data)):\n",
    "            # gc.collect()\n",
    "            polygonID = int(data[i].split(\"_\")[-1])\n",
    "            polygon = data_getter(polygonID, trial, test_mesh_data_list, test_polygon_data_list)\n",
    "            # 正規化する\n",
    "            polygon = normalization(polygon)\n",
    "\n",
    "            polygon.coordinates[0] = out[i]\n",
    "            \n",
    "            # print(\"out_i:\", out[i])\n",
    "            polygon = check(polygon, polygonID)\n",
    "            # print(\"fixed_out_i:\", polygon.coordinates[0])\n",
    "            # metric_loss = criterion(polygon)\n",
    "            # metric_loss_list.append(metric_loss)\n",
    "            \n",
    "            # 非正規化する\n",
    "            polygon = denormalization(polygon)\n",
    "\n",
    "            # 予測したノードの座標をもとのメッシュに当てはめて更新する\n",
    "            polygon_meshID = int(test_polygon_data_list[polygonID].meshID.split(\"_\")[-1])\n",
    "            mesh = test_mesh_data_lists[trial][polygon_meshID]\n",
    "\n",
    "            mesh.coordinates[test_polygon_data_list[polygonID].nodeID[0]] = polygon.coordinates[0]\n",
    "        \n",
    "    return test_mesh_data_lists\n",
    "\n",
    "\n",
    "\n",
    "\n",
    "\n",
    "\n",
    "\n",
    "\n",
    "\n",
    "            "
   ]
  },
  {
   "cell_type": "code",
   "execution_count": 85,
   "metadata": {},
   "outputs": [
    {
     "name": "stderr",
     "output_type": "stream",
     "text": [
      "  0%|          | 0/100 [00:06<?, ?it/s]\n"
     ]
    },
    {
     "ename": "TypeError",
     "evalue": "GMSNet.forward() takes 3 positional arguments but 4 were given",
     "output_type": "error",
     "traceback": [
      "\u001b[0;31m---------------------------------------------------------------------------\u001b[0m",
      "\u001b[0;31mTypeError\u001b[0m                                 Traceback (most recent call last)",
      "Cell \u001b[0;32mIn[85], line 6\u001b[0m\n\u001b[1;32m      4\u001b[0m \u001b[38;5;28;01mfor\u001b[39;00m trial \u001b[38;5;129;01min\u001b[39;00m \u001b[38;5;28mrange\u001b[39m(num_trial):\n\u001b[1;32m      5\u001b[0m     \u001b[38;5;28;01mfor\u001b[39;00m epoch \u001b[38;5;129;01min\u001b[39;00m tqdm(\u001b[38;5;28mrange\u001b[39m(num_test_epoch)):\n\u001b[0;32m----> 6\u001b[0m         test_mesh_data_lists \u001b[38;5;241m=\u001b[39m \u001b[43mtest\u001b[49m\u001b[43m(\u001b[49m\u001b[43mdevice\u001b[49m\u001b[43m,\u001b[49m\u001b[43m \u001b[49m\u001b[43mtrial\u001b[49m\u001b[43m,\u001b[49m\u001b[43m \u001b[49m\u001b[43mtest_mesh_data_lists\u001b[49m\u001b[43m)\u001b[49m\n",
      "Cell \u001b[0;32mIn[84], line 55\u001b[0m, in \u001b[0;36mtest\u001b[0;34m(device, trial, test_mesh_data_lists)\u001b[0m\n\u001b[1;32m     52\u001b[0m minibatch\u001b[38;5;241m.\u001b[39mbatch \u001b[38;5;241m=\u001b[39m minibatch\u001b[38;5;241m.\u001b[39mbatch\u001b[38;5;241m.\u001b[39mto(device)\n\u001b[1;32m     53\u001b[0m model\u001b[38;5;241m.\u001b[39mto(device)\n\u001b[0;32m---> 55\u001b[0m out \u001b[38;5;241m=\u001b[39m \u001b[43mmodel\u001b[49m\u001b[43m(\u001b[49m\u001b[43mminibatch\u001b[49m\u001b[38;5;241;43m.\u001b[39;49m\u001b[43mx\u001b[49m\u001b[43m,\u001b[49m\u001b[43m \u001b[49m\u001b[43mminibatch\u001b[49m\u001b[38;5;241;43m.\u001b[39;49m\u001b[43medge_index\u001b[49m\u001b[43m,\u001b[49m\u001b[43m \u001b[49m\u001b[43mminibatch\u001b[49m\u001b[38;5;241;43m.\u001b[39;49m\u001b[43mbatch\u001b[49m\u001b[43m)\u001b[49m\n\u001b[1;32m     56\u001b[0m \u001b[38;5;66;03m# print(\"out:\", out)\u001b[39;00m\n\u001b[1;32m     57\u001b[0m \u001b[38;5;66;03m# print(\"out:\", out.size())\u001b[39;00m\n\u001b[1;32m     59\u001b[0m \u001b[38;5;28;01mfor\u001b[39;00m i \u001b[38;5;129;01min\u001b[39;00m \u001b[38;5;28mrange\u001b[39m(\u001b[38;5;28mlen\u001b[39m(data)):\n\u001b[1;32m     60\u001b[0m     \u001b[38;5;66;03m# gc.collect()\u001b[39;00m\n",
      "File \u001b[0;32m/usr/local/lib/python3.10/dist-packages/torch/nn/modules/module.py:1505\u001b[0m, in \u001b[0;36mModule._wrapped_call_impl\u001b[0;34m(self, *args, **kwargs)\u001b[0m\n\u001b[1;32m   1503\u001b[0m     \u001b[38;5;28;01mreturn\u001b[39;00m \u001b[38;5;28mself\u001b[39m\u001b[38;5;241m.\u001b[39m_compiled_call_impl(\u001b[38;5;241m*\u001b[39margs, \u001b[38;5;241m*\u001b[39m\u001b[38;5;241m*\u001b[39mkwargs)  \u001b[38;5;66;03m# type: ignore[misc]\u001b[39;00m\n\u001b[1;32m   1504\u001b[0m \u001b[38;5;28;01melse\u001b[39;00m:\n\u001b[0;32m-> 1505\u001b[0m     \u001b[38;5;28;01mreturn\u001b[39;00m \u001b[38;5;28;43mself\u001b[39;49m\u001b[38;5;241;43m.\u001b[39;49m\u001b[43m_call_impl\u001b[49m\u001b[43m(\u001b[49m\u001b[38;5;241;43m*\u001b[39;49m\u001b[43margs\u001b[49m\u001b[43m,\u001b[49m\u001b[43m \u001b[49m\u001b[38;5;241;43m*\u001b[39;49m\u001b[38;5;241;43m*\u001b[39;49m\u001b[43mkwargs\u001b[49m\u001b[43m)\u001b[49m\n",
      "File \u001b[0;32m/usr/local/lib/python3.10/dist-packages/torch/nn/modules/module.py:1514\u001b[0m, in \u001b[0;36mModule._call_impl\u001b[0;34m(self, *args, **kwargs)\u001b[0m\n\u001b[1;32m   1509\u001b[0m \u001b[38;5;66;03m# If we don't have any hooks, we want to skip the rest of the logic in\u001b[39;00m\n\u001b[1;32m   1510\u001b[0m \u001b[38;5;66;03m# this function, and just call forward.\u001b[39;00m\n\u001b[1;32m   1511\u001b[0m \u001b[38;5;28;01mif\u001b[39;00m \u001b[38;5;129;01mnot\u001b[39;00m (\u001b[38;5;28mself\u001b[39m\u001b[38;5;241m.\u001b[39m_backward_hooks \u001b[38;5;129;01mor\u001b[39;00m \u001b[38;5;28mself\u001b[39m\u001b[38;5;241m.\u001b[39m_backward_pre_hooks \u001b[38;5;129;01mor\u001b[39;00m \u001b[38;5;28mself\u001b[39m\u001b[38;5;241m.\u001b[39m_forward_hooks \u001b[38;5;129;01mor\u001b[39;00m \u001b[38;5;28mself\u001b[39m\u001b[38;5;241m.\u001b[39m_forward_pre_hooks\n\u001b[1;32m   1512\u001b[0m         \u001b[38;5;129;01mor\u001b[39;00m _global_backward_pre_hooks \u001b[38;5;129;01mor\u001b[39;00m _global_backward_hooks\n\u001b[1;32m   1513\u001b[0m         \u001b[38;5;129;01mor\u001b[39;00m _global_forward_hooks \u001b[38;5;129;01mor\u001b[39;00m _global_forward_pre_hooks):\n\u001b[0;32m-> 1514\u001b[0m     \u001b[38;5;28;01mreturn\u001b[39;00m \u001b[43mforward_call\u001b[49m\u001b[43m(\u001b[49m\u001b[38;5;241;43m*\u001b[39;49m\u001b[43margs\u001b[49m\u001b[43m,\u001b[49m\u001b[43m \u001b[49m\u001b[38;5;241;43m*\u001b[39;49m\u001b[38;5;241;43m*\u001b[39;49m\u001b[43mkwargs\u001b[49m\u001b[43m)\u001b[49m\n\u001b[1;32m   1515\u001b[0m \u001b[38;5;66;03m# Do not call functions when jit is used\u001b[39;00m\n\u001b[1;32m   1516\u001b[0m full_backward_hooks, non_full_backward_hooks \u001b[38;5;241m=\u001b[39m [], []\n",
      "\u001b[0;31mTypeError\u001b[0m: GMSNet.forward() takes 3 positional arguments but 4 were given"
     ]
    }
   ],
   "source": [
    "# 100epochで最適化されたメッシュを10個生成する\n",
    "test_mesh_data_lists = [copy.deepcopy(test_mesh_data_list) for _ in range(10)]\n",
    "\n",
    "for trial in range(num_trial):\n",
    "    for epoch in tqdm(range(num_test_epoch)):\n",
    "        test_mesh_data_lists = test(device, trial, test_mesh_data_lists)\n"
   ]
  },
  {
   "cell_type": "code",
   "execution_count": null,
   "metadata": {},
   "outputs": [],
   "source": [
    "best_mesh_data_list = []\n",
    "num_test_mesh = len(test_vtk_files)\n",
    "    \n",
    "for i in tqdm(range(num_test_mesh)):\n",
    "    q_hat_list = []\n",
    "    for j in range(10):\n",
    "        mesh = test_mesh_data_lists[j][i]\n",
    "\n",
    "        # q_hat を求めるコード\n",
    "        q_hat = calculate_q_hat(mesh)\n",
    "        \n",
    "        q_hat_list.append(q_hat)\n",
    "        best = q_hat_list.index(min(q_hat_list))\n",
    "        best_mesh_data_list.append(test_mesh_data_lists[best + 1][i])\n",
    "    \n",
    "\n",
    "\n",
    "    # best_mesh_data_list[i] のデータをvtkファイルで出力する\n",
    "    vtk_output(best_mesh_data_list[i], f\"optimized_{i}\")"
   ]
  },
  {
   "cell_type": "markdown",
   "metadata": {},
   "source": [
    "## 更新したメッシュを表示してみる"
   ]
  },
  {
   "cell_type": "code",
   "execution_count": null,
   "metadata": {},
   "outputs": [],
   "source": [
    "for i in range(num_test_mesh):\n",
    "    plot_mesh(best_mesh_data_list[i], f\"optimized_{i}\")"
   ]
  },
  {
   "cell_type": "markdown",
   "metadata": {},
   "source": [
    "# 元のメッシュから座標が変わっているか確認する"
   ]
  },
  {
   "cell_type": "code",
   "execution_count": null,
   "metadata": {},
   "outputs": [],
   "source": [
    "格子点が滑らかに配置されているか、急激な変化や不連続がないかを評価します。# for i in range(num_test_mesh):\n",
    "#     print(test_mesh_data_list[i].coordinates.size())\n",
    "#     print(best_mesh_data_list[i].coordinates.size())\n"
   ]
  },
  {
   "cell_type": "code",
   "execution_count": null,
   "metadata": {},
   "outputs": [],
   "source": [
    "for i in range(num_test_mesh):\n",
    "    if torch.equal(test_mesh_data_list[i].coordinates, best_mesh_data_list[i].coordinates):\n",
    "        print(\"Not updated!!\")\n",
    "    \n",
    "    else:\n",
    "         print(\"Updated\")"
   ]
  },
  {
   "cell_type": "code",
   "execution_count": null,
   "metadata": {},
   "outputs": [],
   "source": [
    "for i in range(num_test_mesh):\n",
    "    plot_mesh(test_mesh_data_list[i], f\"original_{i}\")"
   ]
  },
  {
   "cell_type": "code",
   "execution_count": null,
   "metadata": {},
   "outputs": [],
   "source": []
  },
  {
   "cell_type": "code",
   "execution_count": null,
   "metadata": {},
   "outputs": [],
   "source": []
  },
  {
   "cell_type": "code",
   "execution_count": null,
   "metadata": {},
   "outputs": [],
   "source": [
    "a=torch.tensor([[[ 0.6004, -0.1381,  0.5997,  0.2204, -0.5977,  0.4884, -0.1954, -0.2755],\n",
    "        [-0.5785, -0.7031,  0.2004, -0.1510,  0.2774, -0.5800,  0.5260, -0.5150],\n",
    "        [-0.1189,  0.1473,  0.3666,  0.5725,  0.6517, -0.5593,  0.1796, -0.3000],\n",
    "        [-0.0748, -0.5303,  0.6381, -0.5197,  0.3724,  0.2501,  0.2280, -0.3767]],\n",
    "        [[0.6353,  0.1526,  0.1002, -0.6209,  0.2963, -0.1024, -0.3281,  0.6075],\n",
    "        [0.1588, -0.3860, -0.3635, -0.0385,  0.3957, -0.1853, -0.4013, -0.2480],\n",
    "        [-0.5284,  0.2546,  0.5519, -0.6643,  0.1631,  0.3607,  0.1233, -0.2522],\n",
    "        [0.3676,  0.3681,  0.2616, -0.1182, -0.1916,  0.0747, -0.1194, -0.2073]]])"
   ]
  },
  {
   "cell_type": "code",
   "execution_count": null,
   "metadata": {},
   "outputs": [],
   "source": [
    "a[:,0]"
   ]
  },
  {
   "cell_type": "code",
   "execution_count": null,
   "metadata": {},
   "outputs": [],
   "source": [
    "a.unsqueeze(0)"
   ]
  },
  {
   "cell_type": "code",
   "execution_count": null,
   "metadata": {},
   "outputs": [],
   "source": [
    "import torch\n",
    "\n",
    "# 3点の座標を定義（これらは微分の対象となる変数なのでrequires_grad=Trueを設定）\n",
    "p1 = torch.tensor([-0.6721, -0.4008], requires_grad=True)\n",
    "p2 = torch.tensor([-0.0425,  0.0179], requires_grad=True)\n",
    "p3 = torch.tensor([-0.3361, -0.1763], requires_grad=True)\n",
    "\n",
    "# 各辺の長さを計算\n",
    "a = torch.sqrt(torch.sum((p2 - p1) ** 2))\n",
    "b = torch.sqrt(torch.sum((p3 - p2) ** 2))\n",
    "c = torch.sqrt(torch.sum((p1 - p3) ** 2))\n",
    "\n",
    "# ヘロンの公式を用いて面積を計算\n",
    "s = (a + b + c) / 2\n",
    "area = torch.sqrt(s * (s - a) * (s - b) * (s - c))\n",
    "\n",
    "loss = 1 - (4*torch.sqrt(torch.tensor(3))*area)/(a**2 + b**2 + c**2)\n",
    "\n",
    "# 面積に対して自動微分を行う\n",
    "loss.backward()\n",
    "\n",
    "# 各点に対する勾配を表示\n",
    "print(p1.grad)\n",
    "print(p2.grad)\n",
    "print(p3.grad)"
   ]
  },
  {
   "cell_type": "code",
   "execution_count": null,
   "metadata": {},
   "outputs": [],
   "source": [
    "torch.exp(torch.tensor(0))"
   ]
  },
  {
   "cell_type": "code",
   "execution_count": null,
   "metadata": {},
   "outputs": [],
   "source": [
    "a = [[0.0, 0.0], \n",
    "    [-0.3022986352443695, 0.7041022777557373],\n",
    "    [-0.6732527613639832, 0.49798783659935],\n",
    "    [-0.6732527613639832, -0.05284641683101654],\n",
    "    [-0.3600771427154541, -0.19979676604270935],\n",
    "    [0.1442829966545105, -0.10576343536376953],\n",
    "    [0.32674723863601685, 0.25243768095970154]]\n",
    "\n",
    "for i in range(1, len(a)):\n",
    "    x = [a[0][0], a[i][0]]\n",
    "    y = [a[0][1], a[i][1]]\n",
    "    plt.plot(x, y, c=\"k\")\n",
    "    \n",
    "for i in range(1, len(a)):\n",
    "    x = [a[i][0], a[i%6+1][0]]\n",
    "    y = [a[i][1], a[i%6+1][1]]\n",
    "    plt.plot(x, y, c=\"k\")\n",
    "    \n",
    "plt.scatter([x[0] for x in a], [x[1] for x in a], c=\"r\")"
   ]
  },
  {
   "cell_type": "code",
   "execution_count": null,
   "metadata": {},
   "outputs": [],
   "source": [
    "a = [[-0.08619694411754608, 0.08077329397201538], \n",
    "    [-0.3022986352443695, 0.7041022777557373],\n",
    "    [-0.6732527613639832, 0.49798783659935],\n",
    "    [-0.6732527613639832, -0.05284641683101654],\n",
    "    [-0.3600771427154541, -0.19979676604270935],\n",
    "    [0.1442829966545105, -0.10576343536376953],\n",
    "    [0.32674723863601685, 0.25243768095970154]]\n",
    "\n",
    "for i in range(1, len(a)):\n",
    "    x = [a[0][0], a[i][0]]\n",
    "    y = [a[0][1], a[i][1]]\n",
    "    plt.plot(x, y, c=\"k\")\n",
    "    \n",
    "for i in range(1, len(a)):\n",
    "    x = [a[i][0], a[i%6+1][0]]\n",
    "    y = [a[i][1], a[i%6+1][1]]\n",
    "    plt.plot(x, y, c=\"k\")\n",
    "    \n",
    "plt.scatter([x[0] for x in a], [x[1] for x in a], c=\"r\")"
   ]
  },
  {
   "cell_type": "code",
   "execution_count": null,
   "metadata": {},
   "outputs": [],
   "source": []
  }
 ],
 "metadata": {
  "kernelspec": {
   "display_name": "Python 3 (ipykernel)",
   "language": "python",
   "name": "python3"
  },
  "language_info": {
   "codemirror_mode": {
    "name": "ipython",
    "version": 3
   },
   "file_extension": ".py",
   "mimetype": "text/x-python",
   "name": "python",
   "nbconvert_exporter": "python",
   "pygments_lexer": "ipython3",
   "version": "3.10.12"
  }
 },
 "nbformat": 4,
 "nbformat_minor": 2
}
